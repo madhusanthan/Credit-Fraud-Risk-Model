{
 "cells": [
  {
   "cell_type": "code",
   "execution_count": 16,
   "metadata": {},
   "outputs": [],
   "source": [
    "import pandas as pd\n",
    "import numpy as np\n",
    "import matplotlib.pyplot as plt\n",
    "%matplotlib inline\n",
    "import seaborn as sns\n",
    "\n",
    "import warnings\n",
    "warnings.filterwarnings(\"ignore\")"
   ]
  },
  {
   "cell_type": "code",
   "execution_count": 2,
   "metadata": {},
   "outputs": [
    {
     "data": {
      "text/html": [
       "<div>\n",
       "<style scoped>\n",
       "    .dataframe tbody tr th:only-of-type {\n",
       "        vertical-align: middle;\n",
       "    }\n",
       "\n",
       "    .dataframe tbody tr th {\n",
       "        vertical-align: top;\n",
       "    }\n",
       "\n",
       "    .dataframe thead th {\n",
       "        text-align: right;\n",
       "    }\n",
       "</style>\n",
       "<table border=\"1\" class=\"dataframe\">\n",
       "  <thead>\n",
       "    <tr style=\"text-align: right;\">\n",
       "      <th></th>\n",
       "      <th>portfolio_id</th>\n",
       "      <th>product_term_credit_limit</th>\n",
       "      <th>NP</th>\n",
       "      <th>cash_intent</th>\n",
       "      <th>ALJ0300</th>\n",
       "      <th>ALJ0316</th>\n",
       "      <th>ALJ0416</th>\n",
       "      <th>ALJ5030</th>\n",
       "      <th>ALJ5320</th>\n",
       "      <th>ALJ5730</th>\n",
       "      <th>...</th>\n",
       "      <th>TSTU0910</th>\n",
       "      <th>TSTU2906</th>\n",
       "      <th>TSTU2907</th>\n",
       "      <th>TSTU2908</th>\n",
       "      <th>TSTU3906</th>\n",
       "      <th>TSTU3907</th>\n",
       "      <th>TSTU3908</th>\n",
       "      <th>TSTU4906</th>\n",
       "      <th>TSTU4907</th>\n",
       "      <th>TSTU4908</th>\n",
       "    </tr>\n",
       "    <tr>\n",
       "      <th>record_nb</th>\n",
       "      <th></th>\n",
       "      <th></th>\n",
       "      <th></th>\n",
       "      <th></th>\n",
       "      <th></th>\n",
       "      <th></th>\n",
       "      <th></th>\n",
       "      <th></th>\n",
       "      <th></th>\n",
       "      <th></th>\n",
       "      <th></th>\n",
       "      <th></th>\n",
       "      <th></th>\n",
       "      <th></th>\n",
       "      <th></th>\n",
       "      <th></th>\n",
       "      <th></th>\n",
       "      <th></th>\n",
       "      <th></th>\n",
       "      <th></th>\n",
       "      <th></th>\n",
       "    </tr>\n",
       "  </thead>\n",
       "  <tbody>\n",
       "    <tr>\n",
       "      <th>1</th>\n",
       "      <td>1908</td>\n",
       "      <td>500</td>\n",
       "      <td>0</td>\n",
       "      <td>0</td>\n",
       "      <td>2</td>\n",
       "      <td>1</td>\n",
       "      <td>1</td>\n",
       "      <td>33521</td>\n",
       "      <td>50283</td>\n",
       "      <td>0</td>\n",
       "      <td>...</td>\n",
       "      <td>0.0</td>\n",
       "      <td>0.0</td>\n",
       "      <td>0.0</td>\n",
       "      <td>0.0</td>\n",
       "      <td>0.0</td>\n",
       "      <td>0.0</td>\n",
       "      <td>0.0</td>\n",
       "      <td>0.0</td>\n",
       "      <td>0.0</td>\n",
       "      <td>0.0</td>\n",
       "    </tr>\n",
       "    <tr>\n",
       "      <th>2</th>\n",
       "      <td>1908</td>\n",
       "      <td>500</td>\n",
       "      <td>0</td>\n",
       "      <td>0</td>\n",
       "      <td>0</td>\n",
       "      <td>98</td>\n",
       "      <td>98</td>\n",
       "      <td>999999998</td>\n",
       "      <td>999999998</td>\n",
       "      <td>999999998</td>\n",
       "      <td>...</td>\n",
       "      <td>999999998.0</td>\n",
       "      <td>98.0</td>\n",
       "      <td>999999998.0</td>\n",
       "      <td>999999998.0</td>\n",
       "      <td>98.0</td>\n",
       "      <td>999999998.0</td>\n",
       "      <td>999999998.0</td>\n",
       "      <td>98.0</td>\n",
       "      <td>999999998.0</td>\n",
       "      <td>999999998.0</td>\n",
       "    </tr>\n",
       "    <tr>\n",
       "      <th>3</th>\n",
       "      <td>1908</td>\n",
       "      <td>500</td>\n",
       "      <td>0</td>\n",
       "      <td>0</td>\n",
       "      <td>1</td>\n",
       "      <td>0</td>\n",
       "      <td>0</td>\n",
       "      <td>999999997</td>\n",
       "      <td>999999997</td>\n",
       "      <td>999999997</td>\n",
       "      <td>...</td>\n",
       "      <td>0.0</td>\n",
       "      <td>0.0</td>\n",
       "      <td>0.0</td>\n",
       "      <td>0.0</td>\n",
       "      <td>0.0</td>\n",
       "      <td>0.0</td>\n",
       "      <td>0.0</td>\n",
       "      <td>0.0</td>\n",
       "      <td>0.0</td>\n",
       "      <td>0.0</td>\n",
       "    </tr>\n",
       "    <tr>\n",
       "      <th>4</th>\n",
       "      <td>1908</td>\n",
       "      <td>500</td>\n",
       "      <td>0</td>\n",
       "      <td>0</td>\n",
       "      <td>0</td>\n",
       "      <td>98</td>\n",
       "      <td>98</td>\n",
       "      <td>999999998</td>\n",
       "      <td>999999998</td>\n",
       "      <td>999999998</td>\n",
       "      <td>...</td>\n",
       "      <td>999999998.0</td>\n",
       "      <td>98.0</td>\n",
       "      <td>999999998.0</td>\n",
       "      <td>999999998.0</td>\n",
       "      <td>98.0</td>\n",
       "      <td>999999998.0</td>\n",
       "      <td>999999998.0</td>\n",
       "      <td>98.0</td>\n",
       "      <td>999999998.0</td>\n",
       "      <td>999999998.0</td>\n",
       "    </tr>\n",
       "    <tr>\n",
       "      <th>5</th>\n",
       "      <td>1908</td>\n",
       "      <td>500</td>\n",
       "      <td>0</td>\n",
       "      <td>1</td>\n",
       "      <td>2</td>\n",
       "      <td>0</td>\n",
       "      <td>0</td>\n",
       "      <td>999999997</td>\n",
       "      <td>999999997</td>\n",
       "      <td>999999997</td>\n",
       "      <td>...</td>\n",
       "      <td>999999998.0</td>\n",
       "      <td>98.0</td>\n",
       "      <td>999999998.0</td>\n",
       "      <td>999999998.0</td>\n",
       "      <td>98.0</td>\n",
       "      <td>999999998.0</td>\n",
       "      <td>999999998.0</td>\n",
       "      <td>98.0</td>\n",
       "      <td>999999998.0</td>\n",
       "      <td>999999998.0</td>\n",
       "    </tr>\n",
       "  </tbody>\n",
       "</table>\n",
       "<p>5 rows × 2329 columns</p>\n",
       "</div>"
      ],
      "text/plain": [
       "           portfolio_id  product_term_credit_limit  NP  cash_intent  ALJ0300  \\\n",
       "record_nb                                                                      \n",
       "1                  1908                        500   0            0        2   \n",
       "2                  1908                        500   0            0        0   \n",
       "3                  1908                        500   0            0        1   \n",
       "4                  1908                        500   0            0        0   \n",
       "5                  1908                        500   0            1        2   \n",
       "\n",
       "           ALJ0316  ALJ0416    ALJ5030    ALJ5320    ALJ5730  ...  \\\n",
       "record_nb                                                     ...   \n",
       "1                1        1      33521      50283          0  ...   \n",
       "2               98       98  999999998  999999998  999999998  ...   \n",
       "3                0        0  999999997  999999997  999999997  ...   \n",
       "4               98       98  999999998  999999998  999999998  ...   \n",
       "5                0        0  999999997  999999997  999999997  ...   \n",
       "\n",
       "              TSTU0910  TSTU2906     TSTU2907     TSTU2908  TSTU3906  \\\n",
       "record_nb                                                              \n",
       "1                  0.0       0.0          0.0          0.0       0.0   \n",
       "2          999999998.0      98.0  999999998.0  999999998.0      98.0   \n",
       "3                  0.0       0.0          0.0          0.0       0.0   \n",
       "4          999999998.0      98.0  999999998.0  999999998.0      98.0   \n",
       "5          999999998.0      98.0  999999998.0  999999998.0      98.0   \n",
       "\n",
       "              TSTU3907     TSTU3908  TSTU4906     TSTU4907     TSTU4908  \n",
       "record_nb                                                                \n",
       "1                  0.0          0.0       0.0          0.0          0.0  \n",
       "2          999999998.0  999999998.0      98.0  999999998.0  999999998.0  \n",
       "3                  0.0          0.0       0.0          0.0          0.0  \n",
       "4          999999998.0  999999998.0      98.0  999999998.0  999999998.0  \n",
       "5          999999998.0  999999998.0      98.0  999999998.0  999999998.0  \n",
       "\n",
       "[5 rows x 2329 columns]"
      ]
     },
     "execution_count": 2,
     "metadata": {},
     "output_type": "execute_result"
    }
   ],
   "source": [
    "df = pd.read_csv('fraud_risk_dataset.csv', header=0, index_col=0)\n",
    "df.head()"
   ]
  },
  {
   "cell_type": "code",
   "execution_count": 3,
   "metadata": {},
   "outputs": [],
   "source": [
    "from sklearn.preprocessing import RobustScaler, StandardScaler, normalize, OneHotEncoder"
   ]
  },
  {
   "cell_type": "code",
   "execution_count": 4,
   "metadata": {},
   "outputs": [],
   "source": [
    "#fill the null values\n",
    "ccfullData = df.fillna(0)\n",
    "ccfullData.drop('NP', axis=1, inplace=True)"
   ]
  },
  {
   "cell_type": "markdown",
   "metadata": {},
   "source": [
    "Dropping the categorical values to later convert these variables using one hot encoding and keeping only the continuous numeric variables for standardizing"
   ]
  },
  {
   "cell_type": "code",
   "execution_count": 5,
   "metadata": {},
   "outputs": [],
   "source": [
    "x_b = ccfullData.drop(['portfolio_id','product_term_credit_limit','cash_intent','ALL9950','ALL9951','GLBDECS','ALL6310','ALL6320','MTF6326'],axis=1)"
   ]
  },
  {
   "cell_type": "code",
   "execution_count": 6,
   "metadata": {},
   "outputs": [
    {
     "data": {
      "text/plain": [
       "(19030, 2319)"
      ]
     },
     "execution_count": 6,
     "metadata": {},
     "output_type": "execute_result"
    }
   ],
   "source": [
    "x_b.shape"
   ]
  },
  {
   "cell_type": "markdown",
   "metadata": {},
   "source": [
    "By using **RobustScaler()**, we can remove the outliers and then use either StandardScaler for preprocessing the dataset. "
   ]
  },
  {
   "cell_type": "code",
   "execution_count": 7,
   "metadata": {},
   "outputs": [],
   "source": [
    "scaler = RobustScaler()\n",
    "scaled_x_b = scaler.fit_transform(x_b) "
   ]
  },
  {
   "cell_type": "code",
   "execution_count": 8,
   "metadata": {},
   "outputs": [],
   "source": [
    "scaler = StandardScaler()\n",
    "scaled_ccfullData = scaler.fit_transform(scaled_x_b) "
   ]
  },
  {
   "cell_type": "code",
   "execution_count": 9,
   "metadata": {},
   "outputs": [
    {
     "data": {
      "text/plain": [
       "(19030, 2319)"
      ]
     },
     "execution_count": 9,
     "metadata": {},
     "output_type": "execute_result"
    }
   ],
   "source": [
    "scaler_df = pd.DataFrame(scaled_ccfullData)\n",
    "scaler_df.shape"
   ]
  },
  {
   "cell_type": "markdown",
   "metadata": {},
   "source": [
    "Categorical variables are converted to one hot encoding"
   ]
  },
  {
   "cell_type": "code",
   "execution_count": 10,
   "metadata": {},
   "outputs": [],
   "source": [
    "onehot = OneHotEncoder(sparse=False, drop= 'first', handle_unknown = 'error') \n",
    "\n",
    "onehot.fit(ccfullData.portfolio_id.to_numpy().reshape(-1,1))\n",
    "year_onehot = onehot.transform(ccfullData.portfolio_id.to_numpy().reshape(-1,1))\n",
    "year_onehot = pd.DataFrame(year_onehot, columns= onehot.get_feature_names(['portfolio_id']))\n",
    "\n",
    "onehot.fit(ccfullData.product_term_credit_limit.to_numpy().reshape(-1,1))\n",
    "product_term_onehot = onehot.transform(ccfullData.product_term_credit_limit.to_numpy().reshape(-1,1))\n",
    "product_term_onehot = pd.DataFrame(product_term_onehot, columns= onehot.get_feature_names(['product_term_credit_limit']))\n",
    "\n",
    "onehot.fit(ccfullData.cash_intent.to_numpy().reshape(-1,1))\n",
    "cash_intent_onehot = onehot.transform(ccfullData.cash_intent.to_numpy().reshape(-1,1))\n",
    "cash_intent_onehot = pd.DataFrame(cash_intent_onehot, columns= onehot.get_feature_names(['cash_intent']))\n",
    "\n",
    "#Credit bureau attributes with Flag unit\n",
    "onehot.fit(ccfullData.ALL9950.to_numpy().reshape(-1,1))\n",
    "ALL9950_onehot = onehot.transform(ccfullData.ALL9950.to_numpy().reshape(-1,1))\n",
    "ALL9950_onehot = pd.DataFrame(ALL9950_onehot, columns= onehot.get_feature_names(['ALL9950']))\n",
    "\n",
    "onehot.fit(ccfullData.ALL9951.to_numpy().reshape(-1,1))\n",
    "ALL9951_onehot = onehot.transform(ccfullData.ALL9951.to_numpy().reshape(-1,1))\n",
    "ALL9951_onehot = pd.DataFrame(ALL9951_onehot, columns= onehot.get_feature_names(['ALL9951']))\n",
    "\n",
    "onehot.fit(ccfullData.GLBDECS.to_numpy().reshape(-1,1))\n",
    "GLBDECS_onehot = onehot.transform(ccfullData.GLBDECS.to_numpy().reshape(-1,1))\n",
    "GLBDECS_onehot = pd.DataFrame(GLBDECS_onehot, columns= onehot.get_feature_names(['GLBDECS']))\n",
    "\n",
    "#Credit bureau attributes with Rank unit\n",
    "onehot.fit(ccfullData.ALL6310.to_numpy().reshape(-1,1))\n",
    "ALL6310_onehot = onehot.transform(ccfullData.ALL6310.to_numpy().reshape(-1,1))\n",
    "ALL6310_onehot = pd.DataFrame(ALL6310_onehot, columns= onehot.get_feature_names(['ALL6310']))\n",
    "\n",
    "onehot.fit(ccfullData.ALL6320.to_numpy().reshape(-1,1))\n",
    "ALL6320_onehot = onehot.transform(ccfullData.ALL6320.to_numpy().reshape(-1,1))\n",
    "ALL6320_onehot = pd.DataFrame(ALL6320_onehot, columns= onehot.get_feature_names(['ALL6320']))\n",
    "\n",
    "onehot.fit(ccfullData.MTF6326.to_numpy().reshape(-1,1))\n",
    "MTF6326_onehot = onehot.transform(ccfullData.MTF6326.to_numpy().reshape(-1,1))\n",
    "MTF6326_onehot = pd.DataFrame(MTF6326_onehot, columns= onehot.get_feature_names(['MTF6326']))\n"
   ]
  },
  {
   "cell_type": "code",
   "execution_count": 11,
   "metadata": {},
   "outputs": [],
   "source": [
    "concatenated_dataframes = pd.concat(\n",
    "    [\n",
    "        year_onehot.reset_index(drop=True),\n",
    "        product_term_onehot.reset_index(drop=True),\n",
    "        cash_intent_onehot.reset_index(drop=True),\n",
    "        ALL9950_onehot.reset_index(drop=True),\n",
    "        ALL9951_onehot.reset_index(drop=True),\n",
    "        GLBDECS_onehot.reset_index(drop=True),\n",
    "        ALL6310_onehot.reset_index(drop=True),\n",
    "        ALL6320_onehot.reset_index(drop=True),\n",
    "        MTF6326_onehot.reset_index(drop=True),\n",
    "        scaler_df.reset_index(drop=True)\n",
    "    ],\n",
    "    axis=1,\n",
    "    ignore_index=True,\n",
    ")\n",
    "\n",
    "concatenated_dataframes_columns = [\n",
    "    list(year_onehot.columns),\n",
    "    list(product_term_onehot.columns),\n",
    "    list(cash_intent_onehot.columns),\n",
    "    list(ALL9950_onehot.columns),\n",
    "    list(ALL9951_onehot.columns),\n",
    "    list(GLBDECS_onehot.columns),\n",
    "    list(ALL6310_onehot.columns),\n",
    "    list(ALL6320_onehot.columns),\n",
    "    list(MTF6326_onehot.columns),\n",
    "    list(scaler_df.columns)\n",
    "]\n",
    "    \n",
    "flatten = lambda nested_lists: [item for sublist in nested_lists for item in sublist]\n",
    "\n",
    "concatenated_dataframes.columns = flatten(concatenated_dataframes_columns)"
   ]
  },
  {
   "cell_type": "code",
   "execution_count": 12,
   "metadata": {},
   "outputs": [],
   "source": [
    "y = df['NP']"
   ]
  },
  {
   "cell_type": "code",
   "execution_count": 13,
   "metadata": {},
   "outputs": [],
   "source": [
    "from sklearn import model_selection\n",
    "from statistics import mean, stdev\n",
    "from sklearn.linear_model import LogisticRegression\n",
    "from xgboost import XGBClassifier\n",
    "from sklearn.metrics import accuracy_score,f1_score,precision_score, recall_score,auc,roc_curve\n",
    "import time"
   ]
  },
  {
   "cell_type": "code",
   "execution_count": 14,
   "metadata": {},
   "outputs": [
    {
     "name": "stdout",
     "output_type": "stream",
     "text": [
      "List of possible accuracies for Logistic Regression is: [0.91671046 0.9224908  0.91644771 0.92170257 0.91749869]\n",
      "List of possible Precision for Logistic Regression is: [0.59333333 0.65432099 0.60629921 0.68217054 0.58659218]\n",
      "List of possible Recall for Logistic Regression is: [0.25797101 0.30724638 0.22318841 0.25507246 0.30434783]\n",
      "List of possible F1 score for Logistic Regression is: [0.35959596 0.41814596 0.32627119 0.37130802 0.40076336]\n",
      "Logistic Regression: 0.918970 (0.002588)\n",
      "---Classifier Logistic Regression use 132.3159 seconds ---\n",
      "List of possible accuracies for XGBoost is: [0.92433001 0.92485549 0.92643195 0.92143983 0.92616921]\n",
      "List of possible Precision for XGBoost is: [0.72440945 0.70921986 0.77310924 0.71698113 0.72535211]\n",
      "List of possible Recall for XGBoost is: [0.26666667 0.28985507 0.26666667 0.22028986 0.29855072]\n",
      "List of possible F1 score for XGBoost is: [0.38983051 0.41152263 0.39655172 0.33702882 0.42299795]\n",
      "XGBoost: 0.924645 (0.001785)\n",
      "---Classifier XGBoost use 1143.3989 seconds ---\n"
     ]
    },
    {
     "data": {
      "text/html": [
       "<div>\n",
       "<style scoped>\n",
       "    .dataframe tbody tr th:only-of-type {\n",
       "        vertical-align: middle;\n",
       "    }\n",
       "\n",
       "    .dataframe tbody tr th {\n",
       "        vertical-align: top;\n",
       "    }\n",
       "\n",
       "    .dataframe thead th {\n",
       "        text-align: right;\n",
       "    }\n",
       "</style>\n",
       "<table border=\"1\" class=\"dataframe\">\n",
       "  <thead>\n",
       "    <tr style=\"text-align: right;\">\n",
       "      <th></th>\n",
       "      <th>MLA used</th>\n",
       "      <th>Test Accuracy</th>\n",
       "      <th>Precision</th>\n",
       "      <th>Recall</th>\n",
       "      <th>f1</th>\n",
       "    </tr>\n",
       "  </thead>\n",
       "  <tbody>\n",
       "    <tr>\n",
       "      <th>1</th>\n",
       "      <td>XGBoost</td>\n",
       "      <td>0.9246</td>\n",
       "      <td>0.7298</td>\n",
       "      <td>0.2684</td>\n",
       "      <td>0.391586</td>\n",
       "    </tr>\n",
       "    <tr>\n",
       "      <th>0</th>\n",
       "      <td>Logistic Regression</td>\n",
       "      <td>0.9190</td>\n",
       "      <td>0.6245</td>\n",
       "      <td>0.2696</td>\n",
       "      <td>0.375217</td>\n",
       "    </tr>\n",
       "  </tbody>\n",
       "</table>\n",
       "</div>"
      ],
      "text/plain": [
       "              MLA used  Test Accuracy  Precision  Recall        f1\n",
       "1              XGBoost         0.9246     0.7298  0.2684  0.391586\n",
       "0  Logistic Regression         0.9190     0.6245  0.2696  0.375217"
      ]
     },
     "execution_count": 14,
     "metadata": {},
     "output_type": "execute_result"
    }
   ],
   "source": [
    "X = concatenated_dataframes\n",
    "Y = y\n",
    "MLA_columns = []\n",
    "MLA_compare = pd.DataFrame(columns = MLA_columns)\n",
    "row_index = 0\n",
    "# prepare configuration for cross validation test harness\n",
    "seed = 7\n",
    "# prepare models\n",
    "models = []\n",
    "models.append(('Logistic Regression', LogisticRegression()))\n",
    "models.append(('XGBoost', XGBClassifier(eval_metric='mlogloss')))\n",
    "\n",
    "# evaluate each model in turn\n",
    "results = []\n",
    "names = []\n",
    "scoring = 'accuracy'\n",
    "\n",
    "# Create StratifiedKFold object.    \n",
    "tic = time.perf_counter()\n",
    "for name, model in models:\n",
    "    skfold = model_selection.StratifiedKFold(n_splits=5, shuffle=True, random_state=seed)\n",
    "    cv_results = model_selection.cross_val_score(model, X, Y, cv=skfold, scoring=scoring)\n",
    "    f1_results = model_selection.cross_val_score(model, X, Y, cv=skfold, scoring='f1')\n",
    "    recall_results = model_selection.cross_val_score(model, X, Y, cv=skfold, scoring='recall')\n",
    "    precision_results = model_selection.cross_val_score(model, X, Y, cv=skfold, scoring='precision')\n",
    "    MLA_compare.loc[row_index,'MLA used'] = name\n",
    "    MLA_compare.loc[row_index, 'Test Accuracy'] = round(mean(cv_results), 4)\n",
    "    MLA_compare.loc[row_index, 'Precision'] = round(mean(precision_results),4)\n",
    "    MLA_compare.loc[row_index, 'Recall'] = round(mean(recall_results),4)\n",
    "    MLA_compare.loc[row_index, 'f1'] = mean(f1_results)\n",
    "    results.append(cv_results)\n",
    "    names.append(name)\n",
    "    # Print the output.\n",
    "    print('List of possible accuracies for {0} is: {1}'.format(name, cv_results))\n",
    "    print('List of possible Precision for {0} is: {1}'.format(name, precision_results))\n",
    "    print('List of possible Recall for {0} is: {1}'.format(name, recall_results))\n",
    "    print('List of possible F1 score for {0} is: {1}'.format(name, f1_results))\n",
    "    msg = \"%s: %f (%f)\" % (name, mean(cv_results), cv_results.std())\n",
    "    print(msg)\n",
    "    toc = time.perf_counter()\n",
    "    secs = toc - tic\n",
    "    print(\"---Classifier %s use %0.4f seconds ---\" %(name, secs))\n",
    "    row_index+=1\n",
    "    \n",
    "MLA_compare.sort_values(by = ['Test Accuracy'], ascending = False, inplace = True)    \n",
    "MLA_compare"
   ]
  },
  {
   "cell_type": "code",
   "execution_count": 17,
   "metadata": {},
   "outputs": [
    {
     "data": {
      "image/png": "[encoded data removed]",
      "text/plain": [
       "<Figure size 360x360 with 1 Axes>"
      ]
     },
     "metadata": {
      "needs_background": "light"
     },
     "output_type": "display_data"
    }
   ],
   "source": [
    "# Creating plot to show the train accuracy\n",
    "plt.subplots(figsize=(5,5))\n",
    "sns.barplot(x=\"MLA used\", y=\"Test Accuracy\",data=MLA_compare,palette='Set2',edgecolor=sns.color_palette('Accent',7))\n",
    "plt.xticks(rotation=90)\n",
    "plt.title('MLA Test Accuracy Comparison')\n",
    "plt.show()"
   ]
  }
 ],
 "metadata": {
  "kernelspec": {
   "display_name": "Python 3",
   "language": "python",
   "name": "python3"
  },
  "language_info": {
   "codemirror_mode": {
    "name": "ipython",
    "version": 3
   },
   "file_extension": ".py",
   "mimetype": "text/x-python",
   "name": "python",
   "nbconvert_exporter": "python",
   "pygments_lexer": "ipython3",
   "version": "3.7.6"
  }
 },
 "nbformat": 4,
 "nbformat_minor": 4
}
