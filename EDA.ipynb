{
 "cells": [
  {
   "cell_type": "markdown",
   "metadata": {},
   "source": [
    "### EDA of Fraud Risk Modeling"
   ]
  },
  {
   "cell_type": "markdown",
   "metadata": {},
   "source": [
    "**Exploratory Data Analysis (EDA)** helps to visualize the dataset to determine how best to manipulate the data sources to get the answers that we need, ensuring the best outcomes for the project. It is an approach for summarizing, visualizing, and becoming intimately familiar with the important characteristics of a data set. \n",
    "\n",
    "In this project, firstly, we used **Univariate visualization** to provide summary statistics for some field in the dataset. Secondly, we ranked the features by importance using Random Forest classifier and we used a correlation heatmap to look at the relationship between all the categorical features
\n",
    "\n",
    "In the first part, we are looking for the following statistics in this dataset. \n",
    "- The percentages of fraud and non-fraud dataset.\n",
    "- Identify the seasonality trends in fraudulent accounts.\n",
    "- Explore whether the fraud rates have trended up or down over time.\n",
    "- Explore and identify differences in the fraud rate between different products offered by the company."
   ]
  },
  {
   "cell_type": "code",
   "execution_count": 108,
   "metadata": {},
   "outputs": [],
   "source": [
    "import pandas as pd\n",
    "import numpy as np\n",
    "import matplotlib.pyplot as plt\n",
    "%matplotlib inline\n",
    "from sklearn.ensemble import RandomForestClassifier\n",
    "import plotly.express as px\n",
    "\n",
    "import seaborn as sns\n",
    "import warnings\n",
    "warnings.filterwarnings(\"ignore\")"
   ]
  },
  {
   "cell_type": "markdown",
   "metadata": {},
   "source": [
    "The fraud risk dataset is very large with 19030 rows and 2330 columns. The Experian Dictionary is a data dictionary that accompanies the fraud risk data set. This document provides a description of what the columns represent. The dataset the columns are represented by arbitraty letters and numbers. Among these 2330 variables there are many that are similar to one another, for instance ALL0416 represents \"Total number of open trades reported in the last 6 months\" while ALL0436 represents \"Total number of open trades opened in the last 6 months\".  "
   ]
  },
  {
   "cell_type": "code",
   "execution_count": 2,
   "metadata": {},
   "outputs": [
    {
     "data": {
      "text/html": [
       "<div>\n",
       "<style scoped>\n",
       "    .dataframe tbody tr th:only-of-type {\n",
       "        vertical-align: middle;\n",
       "    }\n",
       "\n",
       "    .dataframe tbody tr th {\n",
       "        vertical-align: top;\n",
       "    }\n",
       "\n",
       "    .dataframe thead th {\n",
       "        text-align: right;\n",
       "    }\n",
       "</style>\n",
       "<table border=\"1\" class=\"dataframe\">\n",
       "  <thead>\n",
       "    <tr style=\"text-align: right;\">\n",
       "      <th></th>\n",
       "      <th>portfolio_id</th>\n",
       "      <th>product_term_credit_limit</th>\n",
       "      <th>NP</th>\n",
       "      <th>cash_intent</th>\n",
       "      <th>ALJ0300</th>\n",
       "      <th>ALJ0316</th>\n",
       "      <th>ALJ0416</th>\n",
       "      <th>ALJ5030</th>\n",
       "      <th>ALJ5320</th>\n",
       "      <th>ALJ5730</th>\n",
       "      <th>...</th>\n",
       "      <th>TSTU0910</th>\n",
       "      <th>TSTU2906</th>\n",
       "      <th>TSTU2907</th>\n",
       "      <th>TSTU2908</th>\n",
       "      <th>TSTU3906</th>\n",
       "      <th>TSTU3907</th>\n",
       "      <th>TSTU3908</th>\n",
       "      <th>TSTU4906</th>\n",
       "      <th>TSTU4907</th>\n",
       "      <th>TSTU4908</th>\n",
       "    </tr>\n",
       "    <tr>\n",
       "      <th>record_nb</th>\n",
       "      <th></th>\n",
       "      <th></th>\n",
       "      <th></th>\n",
       "      <th></th>\n",
       "      <th></th>\n",
       "      <th></th>\n",
       "      <th></th>\n",
       "      <th></th>\n",
       "      <th></th>\n",
       "      <th></th>\n",
       "      <th></th>\n",
       "      <th></th>\n",
       "      <th></th>\n",
       "      <th></th>\n",
       "      <th></th>\n",
       "      <th></th>\n",
       "      <th></th>\n",
       "      <th></th>\n",
       "      <th></th>\n",
       "      <th></th>\n",
       "      <th></th>\n",
       "    </tr>\n",
       "  </thead>\n",
       "  <tbody>\n",
       "    <tr>\n",
       "      <th>1</th>\n",
       "      <td>1908</td>\n",
       "      <td>500</td>\n",
       "      <td>0</td>\n",
       "      <td>0</td>\n",
       "      <td>2</td>\n",
       "      <td>1</td>\n",
       "      <td>1</td>\n",
       "      <td>33521</td>\n",
       "      <td>50283</td>\n",
       "      <td>0</td>\n",
       "      <td>...</td>\n",
       "      <td>0.0</td>\n",
       "      <td>0.0</td>\n",
       "      <td>0.0</td>\n",
       "      <td>0.0</td>\n",
       "      <td>0.0</td>\n",
       "      <td>0.0</td>\n",
       "      <td>0.0</td>\n",
       "      <td>0.0</td>\n",
       "      <td>0.0</td>\n",
       "      <td>0.0</td>\n",
       "    </tr>\n",
       "    <tr>\n",
       "      <th>2</th>\n",
       "      <td>1908</td>\n",
       "      <td>500</td>\n",
       "      <td>0</td>\n",
       "      <td>0</td>\n",
       "      <td>0</td>\n",
       "      <td>98</td>\n",
       "      <td>98</td>\n",
       "      <td>999999998</td>\n",
       "      <td>999999998</td>\n",
       "      <td>999999998</td>\n",
       "      <td>...</td>\n",
       "      <td>999999998.0</td>\n",
       "      <td>98.0</td>\n",
       "      <td>999999998.0</td>\n",
       "      <td>999999998.0</td>\n",
       "      <td>98.0</td>\n",
       "      <td>999999998.0</td>\n",
       "      <td>999999998.0</td>\n",
       "      <td>98.0</td>\n",
       "      <td>999999998.0</td>\n",
       "      <td>999999998.0</td>\n",
       "    </tr>\n",
       "    <tr>\n",
       "      <th>3</th>\n",
       "      <td>1908</td>\n",
       "      <td>500</td>\n",
       "      <td>0</td>\n",
       "      <td>0</td>\n",
       "      <td>1</td>\n",
       "      <td>0</td>\n",
       "      <td>0</td>\n",
       "      <td>999999997</td>\n",
       "      <td>999999997</td>\n",
       "      <td>999999997</td>\n",
       "      <td>...</td>\n",
       "      <td>0.0</td>\n",
       "      <td>0.0</td>\n",
       "      <td>0.0</td>\n",
       "      <td>0.0</td>\n",
       "      <td>0.0</td>\n",
       "      <td>0.0</td>\n",
       "      <td>0.0</td>\n",
       "      <td>0.0</td>\n",
       "      <td>0.0</td>\n",
       "      <td>0.0</td>\n",
       "    </tr>\n",
       "    <tr>\n",
       "      <th>4</th>\n",
       "      <td>1908</td>\n",
       "      <td>500</td>\n",
       "      <td>0</td>\n",
       "      <td>0</td>\n",
       "      <td>0</td>\n",
       "      <td>98</td>\n",
       "      <td>98</td>\n",
       "      <td>999999998</td>\n",
       "      <td>999999998</td>\n",
       "      <td>999999998</td>\n",
       "      <td>...</td>\n",
       "      <td>999999998.0</td>\n",
       "      <td>98.0</td>\n",
       "      <td>999999998.0</td>\n",
       "      <td>999999998.0</td>\n",
       "      <td>98.0</td>\n",
       "      <td>999999998.0</td>\n",
       "      <td>999999998.0</td>\n",
       "      <td>98.0</td>\n",
       "      <td>999999998.0</td>\n",
       "      <td>999999998.0</td>\n",
       "    </tr>\n",
       "    <tr>\n",
       "      <th>5</th>\n",
       "      <td>1908</td>\n",
       "      <td>500</td>\n",
       "      <td>0</td>\n",
       "      <td>1</td>\n",
       "      <td>2</td>\n",
       "      <td>0</td>\n",
       "      <td>0</td>\n",
       "      <td>999999997</td>\n",
       "      <td>999999997</td>\n",
       "      <td>999999997</td>\n",
       "      <td>...</td>\n",
       "      <td>999999998.0</td>\n",
       "      <td>98.0</td>\n",
       "      <td>999999998.0</td>\n",
       "      <td>999999998.0</td>\n",
       "      <td>98.0</td>\n",
       "      <td>999999998.0</td>\n",
       "      <td>999999998.0</td>\n",
       "      <td>98.0</td>\n",
       "      <td>999999998.0</td>\n",
       "      <td>999999998.0</td>\n",
       "    </tr>\n",
       "  </tbody>\n",
       "</table>\n",
       "<p>5 rows × 2329 columns</p>\n",
       "</div>"
      ],
      "text/plain": [
       "           portfolio_id  product_term_credit_limit  NP  cash_intent  ALJ0300  \\\n",
       "record_nb                                                                      \n",
       "1                  1908                        500   0            0        2   \n",
       "2                  1908                        500   0            0        0   \n",
       "3                  1908                        500   0            0        1   \n",
       "4                  1908                        500   0            0        0   \n",
       "5                  1908                        500   0            1        2   \n",
       "\n",
       "           ALJ0316  ALJ0416    ALJ5030    ALJ5320    ALJ5730  ...  \\\n",
       "record_nb                                                     ...   \n",
       "1                1        1      33521      50283          0  ...   \n",
       "2               98       98  999999998  999999998  999999998  ...   \n",
       "3                0        0  999999997  999999997  999999997  ...   \n",
       "4               98       98  999999998  999999998  999999998  ...   \n",
       "5                0        0  999999997  999999997  999999997  ...   \n",
       "\n",
       "              TSTU0910  TSTU2906     TSTU2907     TSTU2908  TSTU3906  \\\n",
       "record_nb                                                              \n",
       "1                  0.0       0.0          0.0          0.0       0.0   \n",
       "2          999999998.0      98.0  999999998.0  999999998.0      98.0   \n",
       "3                  0.0       0.0          0.0          0.0       0.0   \n",
       "4          999999998.0      98.0  999999998.0  999999998.0      98.0   \n",
       "5          999999998.0      98.0  999999998.0  999999998.0      98.0   \n",
       "\n",
       "              TSTU3907     TSTU3908  TSTU4906     TSTU4907     TSTU4908  \n",
       "record_nb                                                                \n",
       "1                  0.0          0.0       0.0          0.0          0.0  \n",
       "2          999999998.0  999999998.0      98.0  999999998.0  999999998.0  \n",
       "3                  0.0          0.0       0.0          0.0          0.0  \n",
       "4          999999998.0  999999998.0      98.0  999999998.0  999999998.0  \n",
       "5          999999998.0  999999998.0      98.0  999999998.0  999999998.0  \n",
       "\n",
       "[5 rows x 2329 columns]"
      ]
     },
     "execution_count": 2,
     "metadata": {},
     "output_type": "execute_result"
    }
   ],
   "source": [
    "df_credit = pd.read_csv('fraud_risk_dataset.csv', header=0,index_col=0)\n",
    "df_credit.head()"
   ]
  },
  {
   "cell_type": "code",
   "execution_count": 3,
   "metadata": {},
   "outputs": [
    {
     "data": {
      "text/plain": [
       "['portfolio_id',\n",
       " 'product_term_credit_limit',\n",
       " 'NP',\n",
       " 'cash_intent',\n",
       " 'ALJ0300',\n",
       " 'ALJ0316',\n",
       " 'ALJ0416',\n",
       " 'ALJ5030',\n",
       " 'ALJ5320',\n",
       " 'ALJ5730',\n",
       " 'ALJ5820',\n",
       " 'ALJ5830',\n",
       " 'ALJ8120',\n",
       " 'ALJ8220',\n",
       " 'ALL0000',\n",
       " 'ALL0060',\n",
       " 'ALL0061',\n",
       " 'ALL0100',\n",
       " 'ALL0101',\n",
       " 'ALL0102']"
      ]
     },
     "execution_count": 3,
     "metadata": {},
     "output_type": "execute_result"
    }
   ],
   "source": [
    "list(df_credit.columns[:20])"
   ]
  },
  {
   "cell_type": "code",
   "execution_count": 4,
   "metadata": {},
   "outputs": [
    {
     "data": {
      "text/plain": [
       "portfolio_id                   int64\n",
       "product_term_credit_limit      int64\n",
       "NP                             int64\n",
       "cash_intent                    int64\n",
       "ALJ0300                        int64\n",
       "                              ...   \n",
       "TSTU3907                     float64\n",
       "TSTU3908                     float64\n",
       "TSTU4906                     float64\n",
       "TSTU4907                     float64\n",
       "TSTU4908                     float64\n",
       "Length: 2329, dtype: object"
      ]
     },
     "execution_count": 4,
     "metadata": {},
     "output_type": "execute_result"
    }
   ],
   "source": [
    "df_credit.dtypes"
   ]
  },
  {
   "cell_type": "code",
   "execution_count": 5,
   "metadata": {},
   "outputs": [
    {
     "name": "stdout",
     "output_type": "stream",
     "text": [
      "<class 'pandas.core.frame.DataFrame'>\n",
      "Int64Index: 19030 entries, 1 to 19030\n",
      "Columns: 2329 entries, portfolio_id to TSTU4908\n",
      "dtypes: float64(836), int64(1493)\n",
      "memory usage: 338.3 MB\n",
      "None\n"
     ]
    }
   ],
   "source": [
    "print(df_credit.info())"
   ]
  },
  {
   "cell_type": "code",
   "execution_count": 6,
   "metadata": {},
   "outputs": [
    {
     "name": "stdout",
     "output_type": "stream",
     "text": [
      "portfolio_id                 17\n",
      "product_term_credit_limit     4\n",
      "NP                            2\n",
      "cash_intent                   2\n",
      "ALJ0300                      30\n",
      "                             ..\n",
      "TSTU3907                     12\n",
      "TSTU3908                     12\n",
      "TSTU4906                      6\n",
      "TSTU4907                     20\n",
      "TSTU4908                     20\n",
      "Length: 2329, dtype: int64\n"
     ]
    }
   ],
   "source": [
    "print(df_credit.nunique())"
   ]
  },
  {
   "cell_type": "code",
   "execution_count": 7,
   "metadata": {},
   "outputs": [],
   "source": [
    "data = df_credit[['portfolio_id','product_term_credit_limit','NP','cash_intent']].copy()"
   ]
  },
  {
   "cell_type": "code",
   "execution_count": 8,
   "metadata": {},
   "outputs": [
    {
     "data": {
      "text/html": [
       "<div>\n",
       "<style scoped>\n",
       "    .dataframe tbody tr th:only-of-type {\n",
       "        vertical-align: middle;\n",
       "    }\n",
       "\n",
       "    .dataframe tbody tr th {\n",
       "        vertical-align: top;\n",
       "    }\n",
       "\n",
       "    .dataframe thead th {\n",
       "        text-align: right;\n",
       "    }\n",
       "</style>\n",
       "<table border=\"1\" class=\"dataframe\">\n",
       "  <thead>\n",
       "    <tr style=\"text-align: right;\">\n",
       "      <th></th>\n",
       "      <th>product_term_credit_limit</th>\n",
       "    </tr>\n",
       "    <tr>\n",
       "      <th>NP</th>\n",
       "      <th></th>\n",
       "    </tr>\n",
       "  </thead>\n",
       "  <tbody>\n",
       "    <tr>\n",
       "      <th>0</th>\n",
       "      <td>17305</td>\n",
       "    </tr>\n",
       "    <tr>\n",
       "      <th>1</th>\n",
       "      <td>1725</td>\n",
       "    </tr>\n",
       "  </tbody>\n",
       "</table>\n",
       "</div>"
      ],
      "text/plain": [
       "    product_term_credit_limit\n",
       "NP                           \n",
       "0                       17305\n",
       "1                        1725"
      ]
     },
     "execution_count": 8,
     "metadata": {},
     "output_type": "execute_result"
    }
   ],
   "source": [
    "df_NP = data[['NP','product_term_credit_limit']].groupby('NP').count()\n",
    "df_NP"
   ]
  },
  {
   "cell_type": "code",
   "execution_count": 9,
   "metadata": {},
   "outputs": [
    {
     "data": {
      "text/plain": [
       "array([1908, 1909, 1910, 1912, 2001, 2002, 2003, 2006, 2007, 2008, 2009,\n",
       "       2011, 2012, 2102, 2103, 2104, 2105], dtype=int64)"
      ]
     },
     "execution_count": 9,
     "metadata": {},
     "output_type": "execute_result"
    }
   ],
   "source": [
    "df_credit.portfolio_id.unique()\n",
    "#2019-08 to 2021-05"
   ]
  },
  {
   "cell_type": "code",
   "execution_count": 10,
   "metadata": {},
   "outputs": [
    {
     "data": {
      "text/plain": [
       "array([ 500, 1000,  750,  300], dtype=int64)"
      ]
     },
     "execution_count": 10,
     "metadata": {},
     "output_type": "execute_result"
    }
   ],
   "source": [
    "df_credit.product_term_credit_limit.unique()"
   ]
  },
  {
   "cell_type": "code",
   "execution_count": 11,
   "metadata": {},
   "outputs": [
    {
     "data": {
      "text/plain": [
       "0    17305\n",
       "1     1725\n",
       "Name: NP, dtype: int64"
      ]
     },
     "execution_count": 11,
     "metadata": {},
     "output_type": "execute_result"
    }
   ],
   "source": [
    "df_credit.NP.value_counts()"
   ]
  },
  {
   "cell_type": "code",
   "execution_count": 12,
   "metadata": {},
   "outputs": [
    {
     "data": {
      "text/plain": [
       "0    15678\n",
       "1     3352\n",
       "Name: cash_intent, dtype: int64"
      ]
     },
     "execution_count": 12,
     "metadata": {},
     "output_type": "execute_result"
    }
   ],
   "source": [
    "df_credit.cash_intent.value_counts()"
   ]
  },
  {
   "cell_type": "code",
   "execution_count": 13,
   "metadata": {},
   "outputs": [
    {
     "name": "stdout",
     "output_type": "stream",
     "text": [
      "10.031884057971014\n",
      "Non Fraud transactions: 17305\n",
      "Fraud transactions: 1725\n"
     ]
    }
   ],
   "source": [
    "Nfraud = df_credit[df_credit['NP'] == 0]\n",
    "fraud = df_credit[df_credit['NP'] == 1]\n",
    "\n",
    "outlier_fraction  = len(Nfraud)/float(len(fraud))\n",
    "print(outlier_fraction)\n",
    "\n",
    "print('Non Fraud transactions: {}'.format(len(Nfraud)))\n",
    "print('Fraud transactions: {}'.format(len(fraud)))"
   ]
  },
  {
   "cell_type": "code",
   "execution_count": 14,
   "metadata": {},
   "outputs": [],
   "source": [
    "cc_Data = df_credit.copy()"
   ]
  },
  {
   "cell_type": "code",
   "execution_count": 15,
   "metadata": {},
   "outputs": [],
   "source": [
    "cc_Data['portfolio_id'] = '20' + cc_Data['portfolio_id'].astype(str)"
   ]
  },
  {
   "cell_type": "code",
   "execution_count": 16,
   "metadata": {},
   "outputs": [
    {
     "data": {
      "text/html": [
       "<div>\n",
       "<style scoped>\n",
       "    .dataframe tbody tr th:only-of-type {\n",
       "        vertical-align: middle;\n",
       "    }\n",
       "\n",
       "    .dataframe tbody tr th {\n",
       "        vertical-align: top;\n",
       "    }\n",
       "\n",
       "    .dataframe thead th {\n",
       "        text-align: right;\n",
       "    }\n",
       "</style>\n",
       "<table border=\"1\" class=\"dataframe\">\n",
       "  <thead>\n",
       "    <tr style=\"text-align: right;\">\n",
       "      <th></th>\n",
       "      <th>portfolio_id</th>\n",
       "      <th>product_term_credit_limit</th>\n",
       "      <th>NP</th>\n",
       "      <th>cash_intent</th>\n",
       "      <th>ALJ0300</th>\n",
       "      <th>ALJ0316</th>\n",
       "      <th>ALJ0416</th>\n",
       "      <th>ALJ5030</th>\n",
       "      <th>ALJ5320</th>\n",
       "      <th>ALJ5730</th>\n",
       "      <th>...</th>\n",
       "      <th>TSTU0910</th>\n",
       "      <th>TSTU2906</th>\n",
       "      <th>TSTU2907</th>\n",
       "      <th>TSTU2908</th>\n",
       "      <th>TSTU3906</th>\n",
       "      <th>TSTU3907</th>\n",
       "      <th>TSTU3908</th>\n",
       "      <th>TSTU4906</th>\n",
       "      <th>TSTU4907</th>\n",
       "      <th>TSTU4908</th>\n",
       "    </tr>\n",
       "    <tr>\n",
       "      <th>record_nb</th>\n",
       "      <th></th>\n",
       "      <th></th>\n",
       "      <th></th>\n",
       "      <th></th>\n",
       "      <th></th>\n",
       "      <th></th>\n",
       "      <th></th>\n",
       "      <th></th>\n",
       "      <th></th>\n",
       "      <th></th>\n",
       "      <th></th>\n",
       "      <th></th>\n",
       "      <th></th>\n",
       "      <th></th>\n",
       "      <th></th>\n",
       "      <th></th>\n",
       "      <th></th>\n",
       "      <th></th>\n",
       "      <th></th>\n",
       "      <th></th>\n",
       "      <th></th>\n",
       "    </tr>\n",
       "  </thead>\n",
       "  <tbody>\n",
       "    <tr>\n",
       "      <th>1</th>\n",
       "      <td>2019-08-01</td>\n",
       "      <td>500</td>\n",
       "      <td>0</td>\n",
       "      <td>0</td>\n",
       "      <td>2</td>\n",
       "      <td>1</td>\n",
       "      <td>1</td>\n",
       "      <td>33521</td>\n",
       "      <td>50283</td>\n",
       "      <td>0</td>\n",
       "      <td>...</td>\n",
       "      <td>0.0</td>\n",
       "      <td>0.0</td>\n",
       "      <td>0.0</td>\n",
       "      <td>0.0</td>\n",
       "      <td>0.0</td>\n",
       "      <td>0.0</td>\n",
       "      <td>0.0</td>\n",
       "      <td>0.0</td>\n",
       "      <td>0.0</td>\n",
       "      <td>0.0</td>\n",
       "    </tr>\n",
       "    <tr>\n",
       "      <th>2</th>\n",
       "      <td>2019-08-01</td>\n",
       "      <td>500</td>\n",
       "      <td>0</td>\n",
       "      <td>0</td>\n",
       "      <td>0</td>\n",
       "      <td>98</td>\n",
       "      <td>98</td>\n",
       "      <td>999999998</td>\n",
       "      <td>999999998</td>\n",
       "      <td>999999998</td>\n",
       "      <td>...</td>\n",
       "      <td>999999998.0</td>\n",
       "      <td>98.0</td>\n",
       "      <td>999999998.0</td>\n",
       "      <td>999999998.0</td>\n",
       "      <td>98.0</td>\n",
       "      <td>999999998.0</td>\n",
       "      <td>999999998.0</td>\n",
       "      <td>98.0</td>\n",
       "      <td>999999998.0</td>\n",
       "      <td>999999998.0</td>\n",
       "    </tr>\n",
       "    <tr>\n",
       "      <th>3</th>\n",
       "      <td>2019-08-01</td>\n",
       "      <td>500</td>\n",
       "      <td>0</td>\n",
       "      <td>0</td>\n",
       "      <td>1</td>\n",
       "      <td>0</td>\n",
       "      <td>0</td>\n",
       "      <td>999999997</td>\n",
       "      <td>999999997</td>\n",
       "      <td>999999997</td>\n",
       "      <td>...</td>\n",
       "      <td>0.0</td>\n",
       "      <td>0.0</td>\n",
       "      <td>0.0</td>\n",
       "      <td>0.0</td>\n",
       "      <td>0.0</td>\n",
       "      <td>0.0</td>\n",
       "      <td>0.0</td>\n",
       "      <td>0.0</td>\n",
       "      <td>0.0</td>\n",
       "      <td>0.0</td>\n",
       "    </tr>\n",
       "    <tr>\n",
       "      <th>4</th>\n",
       "      <td>2019-08-01</td>\n",
       "      <td>500</td>\n",
       "      <td>0</td>\n",
       "      <td>0</td>\n",
       "      <td>0</td>\n",
       "      <td>98</td>\n",
       "      <td>98</td>\n",
       "      <td>999999998</td>\n",
       "      <td>999999998</td>\n",
       "      <td>999999998</td>\n",
       "      <td>...</td>\n",
       "      <td>999999998.0</td>\n",
       "      <td>98.0</td>\n",
       "      <td>999999998.0</td>\n",
       "      <td>999999998.0</td>\n",
       "      <td>98.0</td>\n",
       "      <td>999999998.0</td>\n",
       "      <td>999999998.0</td>\n",
       "      <td>98.0</td>\n",
       "      <td>999999998.0</td>\n",
       "      <td>999999998.0</td>\n",
       "    </tr>\n",
       "    <tr>\n",
       "      <th>5</th>\n",
       "      <td>2019-08-01</td>\n",
       "      <td>500</td>\n",
       "      <td>0</td>\n",
       "      <td>1</td>\n",
       "      <td>2</td>\n",
       "      <td>0</td>\n",
       "      <td>0</td>\n",
       "      <td>999999997</td>\n",
       "      <td>999999997</td>\n",
       "      <td>999999997</td>\n",
       "      <td>...</td>\n",
       "      <td>999999998.0</td>\n",
       "      <td>98.0</td>\n",
       "      <td>999999998.0</td>\n",
       "      <td>999999998.0</td>\n",
       "      <td>98.0</td>\n",
       "      <td>999999998.0</td>\n",
       "      <td>999999998.0</td>\n",
       "      <td>98.0</td>\n",
       "      <td>999999998.0</td>\n",
       "      <td>999999998.0</td>\n",
       "    </tr>\n",
       "  </tbody>\n",
       "</table>\n",
       "<p>5 rows × 2329 columns</p>\n",
       "</div>"
      ],
      "text/plain": [
       "          portfolio_id  product_term_credit_limit  NP  cash_intent  ALJ0300  \\\n",
       "record_nb                                                                     \n",
       "1           2019-08-01                        500   0            0        2   \n",
       "2           2019-08-01                        500   0            0        0   \n",
       "3           2019-08-01                        500   0            0        1   \n",
       "4           2019-08-01                        500   0            0        0   \n",
       "5           2019-08-01                        500   0            1        2   \n",
       "\n",
       "           ALJ0316  ALJ0416    ALJ5030    ALJ5320    ALJ5730  ...  \\\n",
       "record_nb                                                     ...   \n",
       "1                1        1      33521      50283          0  ...   \n",
       "2               98       98  999999998  999999998  999999998  ...   \n",
       "3                0        0  999999997  999999997  999999997  ...   \n",
       "4               98       98  999999998  999999998  999999998  ...   \n",
       "5                0        0  999999997  999999997  999999997  ...   \n",
       "\n",
       "              TSTU0910  TSTU2906     TSTU2907     TSTU2908  TSTU3906  \\\n",
       "record_nb                                                              \n",
       "1                  0.0       0.0          0.0          0.0       0.0   \n",
       "2          999999998.0      98.0  999999998.0  999999998.0      98.0   \n",
       "3                  0.0       0.0          0.0          0.0       0.0   \n",
       "4          999999998.0      98.0  999999998.0  999999998.0      98.0   \n",
       "5          999999998.0      98.0  999999998.0  999999998.0      98.0   \n",
       "\n",
       "              TSTU3907     TSTU3908  TSTU4906     TSTU4907     TSTU4908  \n",
       "record_nb                                                                \n",
       "1                  0.0          0.0       0.0          0.0          0.0  \n",
       "2          999999998.0  999999998.0      98.0  999999998.0  999999998.0  \n",
       "3                  0.0          0.0       0.0          0.0          0.0  \n",
       "4          999999998.0  999999998.0      98.0  999999998.0  999999998.0  \n",
       "5          999999998.0  999999998.0      98.0  999999998.0  999999998.0  \n",
       "\n",
       "[5 rows x 2329 columns]"
      ]
     },
     "execution_count": 16,
     "metadata": {},
     "output_type": "execute_result"
    }
   ],
   "source": [
    "cc_Data['portfolio_id'] = pd.to_datetime(cc_Data['portfolio_id'], format='%Y%m')\n",
    "cc_Data.head()"
   ]
  },
  {
   "cell_type": "code",
   "execution_count": 17,
   "metadata": {},
   "outputs": [
    {
     "data": {
      "text/plain": [
       "portfolio_id                 0.00\n",
       "product_term_credit_limit    0.00\n",
       "NP                           0.00\n",
       "cash_intent                  0.00\n",
       "ALJ0300                      0.00\n",
       "                             ... \n",
       "TSTU3907                     0.01\n",
       "TSTU3908                     0.01\n",
       "TSTU4906                     0.01\n",
       "TSTU4907                     0.01\n",
       "TSTU4908                     0.01\n",
       "Length: 2329, dtype: float64"
      ]
     },
     "execution_count": 17,
     "metadata": {},
     "output_type": "execute_result"
    }
   ],
   "source": [
    "# Dropping columns where there are 100% missing values. Clearly these columns are not useful for the analysis.\n",
    "master = cc_Data.dropna(axis='columns',how='all')\n",
    "round(100*(cc_Data.isnull().sum()/len(cc_Data.index)), 2)"
   ]
  },
  {
   "cell_type": "code",
   "execution_count": 18,
   "metadata": {},
   "outputs": [
    {
     "data": {
      "text/plain": [
       "(19030, 2329)"
      ]
     },
     "execution_count": 18,
     "metadata": {},
     "output_type": "execute_result"
    }
   ],
   "source": [
    "master.shape"
   ]
  },
  {
   "cell_type": "code",
   "execution_count": 19,
   "metadata": {},
   "outputs": [
    {
     "data": {
      "text/plain": [
       "NP\n",
       "0    90.94\n",
       "1     9.06\n",
       "dtype: float64"
      ]
     },
     "execution_count": 19,
     "metadata": {},
     "output_type": "execute_result"
    }
   ],
   "source": [
    "round(100*master.groupby('NP').size()/len(master),2)"
   ]
  },
  {
   "cell_type": "code",
   "execution_count": 20,
   "metadata": {},
   "outputs": [
    {
     "data": {
      "text/plain": [
       "cash_intent\n",
       "0    82.39\n",
       "1    17.61\n",
       "dtype: float64"
      ]
     },
     "execution_count": 20,
     "metadata": {},
     "output_type": "execute_result"
    }
   ],
   "source": [
    "round(100*master.groupby('cash_intent').size()/len(master),2)"
   ]
  },
  {
   "cell_type": "code",
   "execution_count": 21,
   "metadata": {},
   "outputs": [
    {
     "data": {
      "text/plain": [
       "<AxesSubplot:title={'center':'Applicants with Cash Intent Vs Not Intent'}>"
      ]
     },
     "execution_count": 21,
     "metadata": {},
     "output_type": "execute_result"
    },
    {
     "data": {
      "image/png": "[encoded data removed]",
      "text/plain": [
       "<Figure size 720x288 with 1 Axes>"
      ]
     },
     "metadata": {
      "needs_background": "light"
     },
     "output_type": "display_data"
    }
   ],
   "source": [
    "plt.figure(figsize=(10, 4))\n",
    "plt.title('Applicants with Cash Intent Vs Not Intent')\n",
    "master['cash_intent'].value_counts()[:2].plot(kind='barh', color=\"slateblue\")"
   ]
  },
  {
   "cell_type": "code",
   "execution_count": 22,
   "metadata": {},
   "outputs": [
    {
     "data": {
      "text/plain": [
       "[Text(0.5, 0, 'Paid Status'), Text(0, 0.5, 'Count')]"
      ]
     },
     "execution_count": 22,
     "metadata": {},
     "output_type": "execute_result"
    },
    {
     "data": {
      "image/png": "[encoded data removed]",
      "text/plain": [
       "<Figure size 720x288 with 1 Axes>"
      ]
     },
     "metadata": {
      "needs_background": "light"
     },
     "output_type": "display_data"
    }
   ],
   "source": [
    "#code from https://github.com/vickysort/Exploratory-Data-Analysis/blob/main/Gramener%20Case%20Study.ipynb\n",
    "plt.figure(figsize=(10, 4))\n",
    "plt.title('Applicants wrt Paid Vs Not Paid Status')\n",
    "ax = sns.countplot(x = \"NP\", data = master);\n",
    "ax.set(xlabel='Paid Status', ylabel='Count')"
   ]
  },
  {
   "cell_type": "code",
   "execution_count": 23,
   "metadata": {},
   "outputs": [],
   "source": [
    "master['issue_yr']=master['portfolio_id'].dt.year\n",
    "master['issue_month']=master['portfolio_id'].dt.month\n",
    "master['Quarter']=master['portfolio_id'].dt.quarter"
   ]
  },
  {
   "cell_type": "code",
   "execution_count": 24,
   "metadata": {},
   "outputs": [],
   "source": [
    "Nfraud = master[master['NP'] == 0]\n",
    "fraud = master[master['NP'] == 1]"
   ]
  },
  {
   "cell_type": "markdown",
   "metadata": {},
   "source": [
    "**Analysis of Fraud applicants**"
   ]
  },
  {
   "cell_type": "code",
   "execution_count": 25,
   "metadata": {},
   "outputs": [
    {
     "data": {
      "text/html": [
       "<div>\n",
       "<style scoped>\n",
       "    .dataframe tbody tr th:only-of-type {\n",
       "        vertical-align: middle;\n",
       "    }\n",
       "\n",
       "    .dataframe tbody tr th {\n",
       "        vertical-align: top;\n",
       "    }\n",
       "\n",
       "    .dataframe thead th {\n",
       "        text-align: right;\n",
       "    }\n",
       "</style>\n",
       "<table border=\"1\" class=\"dataframe\">\n",
       "  <thead>\n",
       "    <tr style=\"text-align: right;\">\n",
       "      <th></th>\n",
       "      <th>issue_yr</th>\n",
       "      <th>fraud_percent</th>\n",
       "    </tr>\n",
       "  </thead>\n",
       "  <tbody>\n",
       "    <tr>\n",
       "      <th>2</th>\n",
       "      <td>2021</td>\n",
       "      <td>43.83</td>\n",
       "    </tr>\n",
       "    <tr>\n",
       "      <th>1</th>\n",
       "      <td>2020</td>\n",
       "      <td>37.62</td>\n",
       "    </tr>\n",
       "    <tr>\n",
       "      <th>0</th>\n",
       "      <td>2019</td>\n",
       "      <td>18.55</td>\n",
       "    </tr>\n",
       "  </tbody>\n",
       "</table>\n",
       "</div>"
      ],
      "text/plain": [
       "   issue_yr  fraud_percent\n",
       "2      2021          43.83\n",
       "1      2020          37.62\n",
       "0      2019          18.55"
      ]
     },
     "execution_count": 25,
     "metadata": {},
     "output_type": "execute_result"
    }
   ],
   "source": [
    "round(100*fraud.groupby('issue_yr').size()/len(fraud),2).reset_index(name='fraud_percent').sort_values('fraud_percent',ascending=False)"
   ]
  },
  {
   "cell_type": "code",
   "execution_count": 26,
   "metadata": {},
   "outputs": [
    {
     "data": {
      "text/html": [
       "<div>\n",
       "<style scoped>\n",
       "    .dataframe tbody tr th:only-of-type {\n",
       "        vertical-align: middle;\n",
       "    }\n",
       "\n",
       "    .dataframe tbody tr th {\n",
       "        vertical-align: top;\n",
       "    }\n",
       "\n",
       "    .dataframe thead th {\n",
       "        text-align: right;\n",
       "    }\n",
       "</style>\n",
       "<table border=\"1\" class=\"dataframe\">\n",
       "  <thead>\n",
       "    <tr style=\"text-align: right;\">\n",
       "      <th></th>\n",
       "      <th>issue_yr</th>\n",
       "      <th>Nfraud_percent</th>\n",
       "    </tr>\n",
       "  </thead>\n",
       "  <tbody>\n",
       "    <tr>\n",
       "      <th>2</th>\n",
       "      <td>2021</td>\n",
       "      <td>56.34</td>\n",
       "    </tr>\n",
       "    <tr>\n",
       "      <th>1</th>\n",
       "      <td>2020</td>\n",
       "      <td>35.56</td>\n",
       "    </tr>\n",
       "    <tr>\n",
       "      <th>0</th>\n",
       "      <td>2019</td>\n",
       "      <td>8.10</td>\n",
       "    </tr>\n",
       "  </tbody>\n",
       "</table>\n",
       "</div>"
      ],
      "text/plain": [
       "   issue_yr  Nfraud_percent\n",
       "2      2021           56.34\n",
       "1      2020           35.56\n",
       "0      2019            8.10"
      ]
     },
     "execution_count": 26,
     "metadata": {},
     "output_type": "execute_result"
    }
   ],
   "source": [
    "round(100*Nfraud.groupby('issue_yr').size()/len(Nfraud),2).reset_index(name='Nfraud_percent').sort_values('Nfraud_percent',ascending=False)"
   ]
  },
  {
   "cell_type": "code",
   "execution_count": 27,
   "metadata": {},
   "outputs": [
    {
     "data": {
      "text/html": [
       "<div>\n",
       "<style scoped>\n",
       "    .dataframe tbody tr th:only-of-type {\n",
       "        vertical-align: middle;\n",
       "    }\n",
       "\n",
       "    .dataframe tbody tr th {\n",
       "        vertical-align: top;\n",
       "    }\n",
       "\n",
       "    .dataframe thead th {\n",
       "        text-align: right;\n",
       "    }\n",
       "</style>\n",
       "<table border=\"1\" class=\"dataframe\">\n",
       "  <thead>\n",
       "    <tr style=\"text-align: right;\">\n",
       "      <th></th>\n",
       "      <th>Quarter</th>\n",
       "      <th>fraud_percent</th>\n",
       "    </tr>\n",
       "  </thead>\n",
       "  <tbody>\n",
       "    <tr>\n",
       "      <th>0</th>\n",
       "      <td>1</td>\n",
       "      <td>45.45</td>\n",
       "    </tr>\n",
       "    <tr>\n",
       "      <th>1</th>\n",
       "      <td>2</td>\n",
       "      <td>27.19</td>\n",
       "    </tr>\n",
       "    <tr>\n",
       "      <th>3</th>\n",
       "      <td>4</td>\n",
       "      <td>23.54</td>\n",
       "    </tr>\n",
       "    <tr>\n",
       "      <th>2</th>\n",
       "      <td>3</td>\n",
       "      <td>3.83</td>\n",
       "    </tr>\n",
       "  </tbody>\n",
       "</table>\n",
       "</div>"
      ],
      "text/plain": [
       "   Quarter  fraud_percent\n",
       "0        1          45.45\n",
       "1        2          27.19\n",
       "3        4          23.54\n",
       "2        3           3.83"
      ]
     },
     "execution_count": 27,
     "metadata": {},
     "output_type": "execute_result"
    }
   ],
   "source": [
    "# fraud by quarter, 4th quarter tops\n",
    "round(100*fraud.groupby(['Quarter']).size()/len(fraud),2).reset_index(name='fraud_percent').sort_values('fraud_percent',ascending=False)"
   ]
  },
  {
   "cell_type": "code",
   "execution_count": 28,
   "metadata": {},
   "outputs": [
    {
     "data": {
      "text/html": [
       "<div>\n",
       "<style scoped>\n",
       "    .dataframe tbody tr th:only-of-type {\n",
       "        vertical-align: middle;\n",
       "    }\n",
       "\n",
       "    .dataframe tbody tr th {\n",
       "        vertical-align: top;\n",
       "    }\n",
       "\n",
       "    .dataframe thead th {\n",
       "        text-align: right;\n",
       "    }\n",
       "</style>\n",
       "<table border=\"1\" class=\"dataframe\">\n",
       "  <thead>\n",
       "    <tr style=\"text-align: right;\">\n",
       "      <th></th>\n",
       "      <th>Quarter</th>\n",
       "      <th>Nfraud_percent</th>\n",
       "    </tr>\n",
       "  </thead>\n",
       "  <tbody>\n",
       "    <tr>\n",
       "      <th>0</th>\n",
       "      <td>1</td>\n",
       "      <td>68.96</td>\n",
       "    </tr>\n",
       "    <tr>\n",
       "      <th>3</th>\n",
       "      <td>4</td>\n",
       "      <td>16.71</td>\n",
       "    </tr>\n",
       "    <tr>\n",
       "      <th>1</th>\n",
       "      <td>2</td>\n",
       "      <td>10.67</td>\n",
       "    </tr>\n",
       "    <tr>\n",
       "      <th>2</th>\n",
       "      <td>3</td>\n",
       "      <td>3.66</td>\n",
       "    </tr>\n",
       "  </tbody>\n",
       "</table>\n",
       "</div>"
      ],
      "text/plain": [
       "   Quarter  Nfraud_percent\n",
       "0        1           68.96\n",
       "3        4           16.71\n",
       "1        2           10.67\n",
       "2        3            3.66"
      ]
     },
     "execution_count": 28,
     "metadata": {},
     "output_type": "execute_result"
    }
   ],
   "source": [
    "round(100*Nfraud.groupby(['Quarter']).size()/len(Nfraud),2).reset_index(name='Nfraud_percent').sort_values('Nfraud_percent',ascending=False)"
   ]
  },
  {
   "cell_type": "code",
   "execution_count": 29,
   "metadata": {},
   "outputs": [
    {
     "data": {
      "text/html": [
       "<div>\n",
       "<style scoped>\n",
       "    .dataframe tbody tr th:only-of-type {\n",
       "        vertical-align: middle;\n",
       "    }\n",
       "\n",
       "    .dataframe tbody tr th {\n",
       "        vertical-align: top;\n",
       "    }\n",
       "\n",
       "    .dataframe thead th {\n",
       "        text-align: right;\n",
       "    }\n",
       "</style>\n",
       "<table border=\"1\" class=\"dataframe\">\n",
       "  <thead>\n",
       "    <tr style=\"text-align: right;\">\n",
       "      <th></th>\n",
       "      <th>issue_yr</th>\n",
       "      <th>Quarter</th>\n",
       "      <th>percent</th>\n",
       "    </tr>\n",
       "  </thead>\n",
       "  <tbody>\n",
       "    <tr>\n",
       "      <th>6</th>\n",
       "      <td>2021</td>\n",
       "      <td>1</td>\n",
       "      <td>24.29</td>\n",
       "    </tr>\n",
       "    <tr>\n",
       "      <th>2</th>\n",
       "      <td>2020</td>\n",
       "      <td>1</td>\n",
       "      <td>21.16</td>\n",
       "    </tr>\n",
       "    <tr>\n",
       "      <th>7</th>\n",
       "      <td>2021</td>\n",
       "      <td>2</td>\n",
       "      <td>19.54</td>\n",
       "    </tr>\n",
       "    <tr>\n",
       "      <th>1</th>\n",
       "      <td>2019</td>\n",
       "      <td>4</td>\n",
       "      <td>15.13</td>\n",
       "    </tr>\n",
       "    <tr>\n",
       "      <th>5</th>\n",
       "      <td>2020</td>\n",
       "      <td>4</td>\n",
       "      <td>8.41</td>\n",
       "    </tr>\n",
       "    <tr>\n",
       "      <th>3</th>\n",
       "      <td>2020</td>\n",
       "      <td>2</td>\n",
       "      <td>7.65</td>\n",
       "    </tr>\n",
       "    <tr>\n",
       "      <th>0</th>\n",
       "      <td>2019</td>\n",
       "      <td>3</td>\n",
       "      <td>3.42</td>\n",
       "    </tr>\n",
       "    <tr>\n",
       "      <th>4</th>\n",
       "      <td>2020</td>\n",
       "      <td>3</td>\n",
       "      <td>0.41</td>\n",
       "    </tr>\n",
       "  </tbody>\n",
       "</table>\n",
       "</div>"
      ],
      "text/plain": [
       "   issue_yr  Quarter  percent\n",
       "6      2021        1    24.29\n",
       "2      2020        1    21.16\n",
       "7      2021        2    19.54\n",
       "1      2019        4    15.13\n",
       "5      2020        4     8.41\n",
       "3      2020        2     7.65\n",
       "0      2019        3     3.42\n",
       "4      2020        3     0.41"
      ]
     },
     "execution_count": 29,
     "metadata": {},
     "output_type": "execute_result"
    }
   ],
   "source": [
    "# Fraud by year and quarter, all year\n",
    "round(100*fraud.groupby(['issue_yr','Quarter']).size()/len(fraud),2).reset_index(name='percent').sort_values(['percent','Quarter'],ascending=False)"
   ]
  },
  {
   "cell_type": "markdown",
   "metadata": {},
   "source": [
    "**Univariate analysis of product credit limit**"
   ]
  },
  {
   "cell_type": "code",
   "execution_count": 30,
   "metadata": {},
   "outputs": [
    {
     "data": {
      "text/plain": [
       "300     985\n",
       "500     389\n",
       "1000    191\n",
       "750     160\n",
       "Name: product_term_credit_limit, dtype: int64"
      ]
     },
     "execution_count": 30,
     "metadata": {},
     "output_type": "execute_result"
    }
   ],
   "source": [
    "# displaying frequencies of each category\n",
    "fraud['product_term_credit_limit'].value_counts()"
   ]
  },
  {
   "cell_type": "code",
   "execution_count": 95,
   "metadata": {},
   "outputs": [
    {
     "data": {
      "text/plain": [
       "<seaborn.axisgrid.FacetGrid at 0x2a9882d5b88>"
      ]
     },
     "execution_count": 95,
     "metadata": {},
     "output_type": "execute_result"
    },
    {
     "data": {
      "image/png": "[encoded data removed]",
      "text/plain": [
       "<Figure size 360x360 with 1 Axes>"
      ]
     },
     "metadata": {
      "needs_background": "light"
     },
     "output_type": "display_data"
    }
   ],
   "source": [
    "sns.catplot(x=\"product_term_credit_limit\", kind=\"count\", palette=\"ch:.25\", data=fraud).set(title=\"Fraud accounts wrt product term credit limit\")"
   ]
  },
  {
   "cell_type": "code",
   "execution_count": 32,
   "metadata": {},
   "outputs": [],
   "source": [
    "grouped1 = fraud.groupby(['product_term_credit_limit'])\n",
    "size1 = grouped1.size()\n",
    "\n",
    "grouped_NF = Nfraud.groupby(['product_term_credit_limit'])\n",
    "size_NF = grouped_NF.size()"
   ]
  },
  {
   "cell_type": "code",
   "execution_count": 33,
   "metadata": {},
   "outputs": [
    {
     "data": {
      "text/plain": [
       "<matplotlib.legend.Legend at 0x2a9888b8b88>"
      ]
     },
     "execution_count": 33,
     "metadata": {},
     "output_type": "execute_result"
    },
    {
     "data": {
      "image/png": "[encoded data removed]",
      "text/plain": [
       "<Figure size 360x288 with 1 Axes>"
      ]
     },
     "metadata": {
      "needs_background": "light"
     },
     "output_type": "display_data"
    }
   ],
   "source": [
    "size_NF.plot(subplots=True, kind='bar',color = 'r', figsize= (5,4), label = \"Non Fraud\")\n",
    "size1.plot(subplots=True,kind='bar',color = 'b', figsize= (5,4), label = \"Fraud\")\n",
    "plt.title('Fraud vs Non-Fraud accounts wrt product term credit limit')\n",
    "plt.legend()"
   ]
  },
  {
   "cell_type": "code",
   "execution_count": 34,
   "metadata": {},
   "outputs": [
    {
     "data": {
      "image/png": "[encoded data removed]",
      "text/plain": [
       "<Figure size 432x360 with 1 Axes>"
      ]
     },
     "metadata": {
      "needs_background": "light"
     },
     "output_type": "display_data"
    }
   ],
   "source": [
    "plt.figure(figsize=(6,5))\n",
    "plt.title('Total accounts wrt Months')\n",
    "ax = sns.countplot(x = \"issue_month\", data = master, order = master['issue_month'].value_counts(sort=True).index);\n",
    "ax.set(xlabel='Issued Month', ylabel='Count')\n",
    "plt.show()"
   ]
  },
  {
   "cell_type": "code",
   "execution_count": 83,
   "metadata": {},
   "outputs": [],
   "source": [
    "grouped1 = fraud.groupby(['cash_intent'])\n",
    "size_F_cash_intent = grouped1.size()\n",
    "\n",
    "grouped_NF = Nfraud.groupby(['cash_intent'])\n",
    "size_NF_cash_intent = grouped_NF.size()"
   ]
  },
  {
   "cell_type": "code",
   "execution_count": 88,
   "metadata": {},
   "outputs": [
    {
     "data": {
      "text/plain": [
       "<matplotlib.legend.Legend at 0x2a9a123d588>"
      ]
     },
     "execution_count": 88,
     "metadata": {},
     "output_type": "execute_result"
    },
    {
     "data": {
      "image/png": "[encoded data removed]",
      "text/plain": [
       "<Figure size 360x288 with 1 Axes>"
      ]
     },
     "metadata": {
      "needs_background": "light"
     },
     "output_type": "display_data"
    }
   ],
   "source": [
    "size_NF_cash_intent.plot(subplots=True, kind='bar',color = 'g', figsize= (5,4), label = \"Non Fraud\")\n",
    "size_F_cash_intent.plot(subplots=True,kind='bar',color = 'y', figsize= (5,4), label = \"Fraud\")\n",
    "plt.title('Non-Fraud vs Fraud accounts wrt cash intent')\n",
    "plt.legend()"
   ]
  },
  {
   "cell_type": "code",
   "execution_count": 35,
   "metadata": {},
   "outputs": [],
   "source": [
    "N_fraud = df_credit[df_credit['NP'] == 0]\n",
    "Fraud = df_credit[df_credit['NP'] == 1]\n",
    "\n",
    "cc_Nfraud_Data = N_fraud.copy()\n",
    "cc_fraud_Data = Fraud.copy()"
   ]
  },
  {
   "cell_type": "code",
   "execution_count": 36,
   "metadata": {},
   "outputs": [],
   "source": [
    "#Fraud data\n",
    "cc_fraud_Data['portfolio_id'] = '20' + cc_fraud_Data['portfolio_id'].astype(str)"
   ]
  },
  {
   "cell_type": "code",
   "execution_count": 37,
   "metadata": {},
   "outputs": [],
   "source": [
    "cc_fraud_Data['portfolio_id'] = pd.to_datetime(cc_fraud_Data['portfolio_id'], format='%Y%m')"
   ]
  },
  {
   "cell_type": "code",
   "execution_count": 38,
   "metadata": {},
   "outputs": [],
   "source": [
    "#Extracting Year\n",
    "cc_fraud_Data['year'] = cc_fraud_Data['portfolio_id'].dt.year\n",
    "\n",
    "#Extracting Month\n",
    "cc_fraud_Data['month'] = cc_fraud_Data['portfolio_id'].dt.month\n",
    "\n",
    "#Extracting Month\n",
    "cc_fraud_Data['week'] = cc_fraud_Data['portfolio_id'].dt.isocalendar().week\n",
    "\n",
    "#Extracting day of week\n",
    "cc_fraud_Data['dayofweek'] = cc_fraud_Data['portfolio_id'].dt.dayofweek"
   ]
  },
  {
   "cell_type": "code",
   "execution_count": 39,
   "metadata": {},
   "outputs": [],
   "source": [
    "cc_Nfraud_Data['portfolio_id'] = '20' + cc_Nfraud_Data['portfolio_id'].astype(str)\n",
    "cc_Nfraud_Data['portfolio_id'] = pd.to_datetime(cc_Nfraud_Data['portfolio_id'], format='%Y%m')"
   ]
  },
  {
   "cell_type": "code",
   "execution_count": 40,
   "metadata": {},
   "outputs": [],
   "source": [
    "#Extracting Year\n",
    "cc_Nfraud_Data['year'] = cc_Nfraud_Data['portfolio_id'].dt.year\n",
    "\n",
    "#Extracting Month\n",
    "cc_Nfraud_Data['month'] = cc_Nfraud_Data['portfolio_id'].dt.month\n",
    "\n",
    "#Extracting Month\n",
    "cc_Nfraud_Data['week'] = cc_Nfraud_Data['portfolio_id'].dt.isocalendar().week\n",
    "\n",
    "#Extracting day of week\n",
    "cc_Nfraud_Data['dayofweek'] = cc_Nfraud_Data['portfolio_id'].dt.dayofweek"
   ]
  },
  {
   "cell_type": "code",
   "execution_count": 109,
   "metadata": {},
   "outputs": [],
   "source": [
    "grouped_fraud = cc_fraud_Data.groupby(['year'])\n",
    "grouped_Nfraud = cc_Nfraud_Data.groupby(['year'])"
   ]
  },
  {
   "cell_type": "code",
   "execution_count": 110,
   "metadata": {},
   "outputs": [
    {
     "data": {
      "text/plain": [
       "<matplotlib.legend.Legend at 0x2a9c7ef4788>"
      ]
     },
     "execution_count": 110,
     "metadata": {},
     "output_type": "execute_result"
    },
    {
     "data": {
      "image/png": "[encoded data removed]",
      "text/plain": [
       "<Figure size 432x288 with 1 Axes>"
      ]
     },
     "metadata": {
      "needs_background": "light"
     },
     "output_type": "display_data"
    }
   ],
   "source": [
    "size_N = grouped_Nfraud.size()\n",
    "size_f = grouped_fraud.size()\n",
    "size_N.plot(subplots=True, color = 'r',kind='bar', label = \"Non Fraud\")\n",
    "size_f.plot(subplots=True, color = 'b',kind='bar', label = \"Fraud\")\n",
    "\n",
    "plt.title(\"Histogram of Fraud and Non-Fraud each year\")\n",
    "plt.legend()"
   ]
  },
  {
   "cell_type": "code",
   "execution_count": 41,
   "metadata": {},
   "outputs": [],
   "source": [
    "grouped_fraud = cc_fraud_Data.groupby(['month'])\n",
    "grouped_Nfraud = cc_Nfraud_Data.groupby(['month'])"
   ]
  },
  {
   "cell_type": "code",
   "execution_count": 42,
   "metadata": {},
   "outputs": [
    {
     "data": {
      "text/plain": [
       "<matplotlib.legend.Legend at 0x2a988ac9088>"
      ]
     },
     "execution_count": 42,
     "metadata": {},
     "output_type": "execute_result"
    },
    {
     "data": {
      "image/png": "[encoded data removed]",
      "text/plain": [
       "<Figure size 432x288 with 1 Axes>"
      ]
     },
     "metadata": {
      "needs_background": "light"
     },
     "output_type": "display_data"
    }
   ],
   "source": [
    "size_N = grouped_Nfraud.size()\n",
    "size_f = grouped_fraud.size()\n",
    "size_N.plot(subplots=True, color = 'r',kind='bar', label = \"Non Fraud\")\n",
    "size_f.plot(subplots=True, color = 'b',kind='bar', label = \"Fraud\")\n",
    "\n",
    "plt.title(\"Histogram of Fraud and Non-Fraud each month\")\n",
    "plt.legend()"
   ]
  },
  {
   "cell_type": "markdown",
   "metadata": {},
   "source": [
    "## Grabbing the Top Fifty Most Correlated Features"
   ]
  },
  {
   "cell_type": "markdown",
   "metadata": {},
   "source": [
    "Grabbing the top fifty most correlated features will make the data frame easier to work with while still preserving its most relevant features. To do this we used a random forest classifier that compares the correlation between the  2344 features in our dataset and our target variable NP. "
   ]
  },
  {
   "cell_type": "code",
   "execution_count": 44,
   "metadata": {},
   "outputs": [],
   "source": [
    "df = pd.read_csv(\"credit_numeric.csv\")"
   ]
  },
  {
   "cell_type": "code",
   "execution_count": 45,
   "metadata": {},
   "outputs": [
    {
     "data": {
      "text/html": [
       "<div>\n",
       "<style scoped>\n",
       "    .dataframe tbody tr th:only-of-type {\n",
       "        vertical-align: middle;\n",
       "    }\n",
       "\n",
       "    .dataframe tbody tr th {\n",
       "        vertical-align: top;\n",
       "    }\n",
       "\n",
       "    .dataframe thead th {\n",
       "        text-align: right;\n",
       "    }\n",
       "</style>\n",
       "<table border=\"1\" class=\"dataframe\">\n",
       "  <thead>\n",
       "    <tr style=\"text-align: right;\">\n",
       "      <th></th>\n",
       "      <th>record_nb</th>\n",
       "      <th>cash_intent</th>\n",
       "      <th>ALJ0300</th>\n",
       "      <th>ALJ0316</th>\n",
       "      <th>ALJ0416</th>\n",
       "      <th>ALJ5030</th>\n",
       "      <th>ALJ5320</th>\n",
       "      <th>ALJ5730</th>\n",
       "      <th>ALJ5820</th>\n",
       "      <th>ALJ5830</th>\n",
       "      <th>...</th>\n",
       "      <th>month_7</th>\n",
       "      <th>month_8</th>\n",
       "      <th>month_9</th>\n",
       "      <th>month_10</th>\n",
       "      <th>month_11</th>\n",
       "      <th>month_12</th>\n",
       "      <th>product_term_credit_limit_300</th>\n",
       "      <th>product_term_credit_limit_500</th>\n",
       "      <th>product_term_credit_limit_750</th>\n",
       "      <th>product_term_credit_limit_1000</th>\n",
       "    </tr>\n",
       "  </thead>\n",
       "  <tbody>\n",
       "    <tr>\n",
       "      <th>0</th>\n",
       "      <td>1</td>\n",
       "      <td>0</td>\n",
       "      <td>2</td>\n",
       "      <td>1</td>\n",
       "      <td>1</td>\n",
       "      <td>33521</td>\n",
       "      <td>50283</td>\n",
       "      <td>0</td>\n",
       "      <td>698</td>\n",
       "      <td>698</td>\n",
       "      <td>...</td>\n",
       "      <td>0</td>\n",
       "      <td>1</td>\n",
       "      <td>0</td>\n",
       "      <td>0</td>\n",
       "      <td>0</td>\n",
       "      <td>0</td>\n",
       "      <td>0</td>\n",
       "      <td>1</td>\n",
       "      <td>0</td>\n",
       "      <td>0</td>\n",
       "    </tr>\n",
       "    <tr>\n",
       "      <th>1</th>\n",
       "      <td>2</td>\n",
       "      <td>0</td>\n",
       "      <td>0</td>\n",
       "      <td>98</td>\n",
       "      <td>98</td>\n",
       "      <td>999999998</td>\n",
       "      <td>999999998</td>\n",
       "      <td>999999998</td>\n",
       "      <td>999999998</td>\n",
       "      <td>999999998</td>\n",
       "      <td>...</td>\n",
       "      <td>0</td>\n",
       "      <td>1</td>\n",
       "      <td>0</td>\n",
       "      <td>0</td>\n",
       "      <td>0</td>\n",
       "      <td>0</td>\n",
       "      <td>0</td>\n",
       "      <td>1</td>\n",
       "      <td>0</td>\n",
       "      <td>0</td>\n",
       "    </tr>\n",
       "    <tr>\n",
       "      <th>2</th>\n",
       "      <td>3</td>\n",
       "      <td>0</td>\n",
       "      <td>1</td>\n",
       "      <td>0</td>\n",
       "      <td>0</td>\n",
       "      <td>999999997</td>\n",
       "      <td>999999997</td>\n",
       "      <td>999999997</td>\n",
       "      <td>999999997</td>\n",
       "      <td>999999997</td>\n",
       "      <td>...</td>\n",
       "      <td>0</td>\n",
       "      <td>1</td>\n",
       "      <td>0</td>\n",
       "      <td>0</td>\n",
       "      <td>0</td>\n",
       "      <td>0</td>\n",
       "      <td>0</td>\n",
       "      <td>1</td>\n",
       "      <td>0</td>\n",
       "      <td>0</td>\n",
       "    </tr>\n",
       "    <tr>\n",
       "      <th>3</th>\n",
       "      <td>4</td>\n",
       "      <td>0</td>\n",
       "      <td>0</td>\n",
       "      <td>98</td>\n",
       "      <td>98</td>\n",
       "      <td>999999998</td>\n",
       "      <td>999999998</td>\n",
       "      <td>999999998</td>\n",
       "      <td>999999998</td>\n",
       "      <td>999999998</td>\n",
       "      <td>...</td>\n",
       "      <td>0</td>\n",
       "      <td>1</td>\n",
       "      <td>0</td>\n",
       "      <td>0</td>\n",
       "      <td>0</td>\n",
       "      <td>0</td>\n",
       "      <td>0</td>\n",
       "      <td>1</td>\n",
       "      <td>0</td>\n",
       "      <td>0</td>\n",
       "    </tr>\n",
       "    <tr>\n",
       "      <th>4</th>\n",
       "      <td>5</td>\n",
       "      <td>1</td>\n",
       "      <td>2</td>\n",
       "      <td>0</td>\n",
       "      <td>0</td>\n",
       "      <td>999999997</td>\n",
       "      <td>999999997</td>\n",
       "      <td>999999997</td>\n",
       "      <td>999999997</td>\n",
       "      <td>999999997</td>\n",
       "      <td>...</td>\n",
       "      <td>0</td>\n",
       "      <td>1</td>\n",
       "      <td>0</td>\n",
       "      <td>0</td>\n",
       "      <td>0</td>\n",
       "      <td>0</td>\n",
       "      <td>0</td>\n",
       "      <td>1</td>\n",
       "      <td>0</td>\n",
       "      <td>0</td>\n",
       "    </tr>\n",
       "  </tbody>\n",
       "</table>\n",
       "<p>5 rows × 2346 columns</p>\n",
       "</div>"
      ],
      "text/plain": [
       "   record_nb  cash_intent  ALJ0300  ALJ0316  ALJ0416    ALJ5030    ALJ5320  \\\n",
       "0          1            0        2        1        1      33521      50283   \n",
       "1          2            0        0       98       98  999999998  999999998   \n",
       "2          3            0        1        0        0  999999997  999999997   \n",
       "3          4            0        0       98       98  999999998  999999998   \n",
       "4          5            1        2        0        0  999999997  999999997   \n",
       "\n",
       "     ALJ5730    ALJ5820    ALJ5830  ...  month_7  month_8  month_9  month_10  \\\n",
       "0          0        698        698  ...        0        1        0         0   \n",
       "1  999999998  999999998  999999998  ...        0        1        0         0   \n",
       "2  999999997  999999997  999999997  ...        0        1        0         0   \n",
       "3  999999998  999999998  999999998  ...        0        1        0         0   \n",
       "4  999999997  999999997  999999997  ...        0        1        0         0   \n",
       "\n",
       "   month_11  month_12  product_term_credit_limit_300  \\\n",
       "0         0         0                              0   \n",
       "1         0         0                              0   \n",
       "2         0         0                              0   \n",
       "3         0         0                              0   \n",
       "4         0         0                              0   \n",
       "\n",
       "   product_term_credit_limit_500  product_term_credit_limit_750  \\\n",
       "0                              1                              0   \n",
       "1                              1                              0   \n",
       "2                              1                              0   \n",
       "3                              1                              0   \n",
       "4                              1                              0   \n",
       "\n",
       "   product_term_credit_limit_1000  \n",
       "0                               0  \n",
       "1                               0  \n",
       "2                               0  \n",
       "3                               0  \n",
       "4                               0  \n",
       "\n",
       "[5 rows x 2346 columns]"
      ]
     },
     "execution_count": 45,
     "metadata": {},
     "output_type": "execute_result"
    }
   ],
   "source": [
    "df.head()"
   ]
  },
  {
   "cell_type": "code",
   "execution_count": 48,
   "metadata": {},
   "outputs": [],
   "source": [
    "#spliting up the dataset\n",
    "X = df.drop('record_nb', axis = 1)\n",
    "y = df_credit['NP']"
   ]
  },
  {
   "cell_type": "code",
   "execution_count": 49,
   "metadata": {},
   "outputs": [],
   "source": [
    "\n",
    "model=RandomForestClassifier()\n",
    " \n",
    "model.fit(X,y)\n",
    " \n",
    "feature_importances=pd.DataFrame({'features':X.columns,'feature_importance':model.feature_importances_})\n",
    "feature_importances=feature_importances.sort_values('feature_importance',ascending=False)"
   ]
  },
  {
   "cell_type": "markdown",
   "metadata": {},
   "source": [
    "### Create a new dataframe with the columns with higher feature importance"
   ]
  },
  {
   "cell_type": "code",
   "execution_count": 166,
   "metadata": {},
   "outputs": [
    {
     "data": {
      "text/html": [
       "<div>\n",
       "<style scoped>\n",
       "    .dataframe tbody tr th:only-of-type {\n",
       "        vertical-align: middle;\n",
       "    }\n",
       "\n",
       "    .dataframe tbody tr th {\n",
       "        vertical-align: top;\n",
       "    }\n",
       "\n",
       "    .dataframe thead th {\n",
       "        text-align: right;\n",
       "    }\n",
       "</style>\n",
       "<table border=\"1\" class=\"dataframe\">\n",
       "  <thead>\n",
       "    <tr style=\"text-align: right;\">\n",
       "      <th></th>\n",
       "      <th>features</th>\n",
       "      <th>feature_importance</th>\n",
       "    </tr>\n",
       "  </thead>\n",
       "  <tbody>\n",
       "    <tr>\n",
       "      <th>2333</th>\n",
       "      <td>month_5</td>\n",
       "      <td>0.041591</td>\n",
       "    </tr>\n",
       "    <tr>\n",
       "      <th>1537</th>\n",
       "      <td>REV7110</td>\n",
       "      <td>0.002745</td>\n",
       "    </tr>\n",
       "    <tr>\n",
       "      <th>2330</th>\n",
       "      <td>month_2</td>\n",
       "      <td>0.002708</td>\n",
       "    </tr>\n",
       "    <tr>\n",
       "      <th>2328</th>\n",
       "      <td>year_2021</td>\n",
       "      <td>0.002545</td>\n",
       "    </tr>\n",
       "    <tr>\n",
       "      <th>331</th>\n",
       "      <td>ALL8020</td>\n",
       "      <td>0.002468</td>\n",
       "    </tr>\n",
       "  </tbody>\n",
       "</table>\n",
       "</div>"
      ],
      "text/plain": [
       "       features  feature_importance\n",
       "2333    month_5            0.041591\n",
       "1537    REV7110            0.002745\n",
       "2330    month_2            0.002708\n",
       "2328  year_2021            0.002545\n",
       "331     ALL8020            0.002468"
      ]
     },
     "execution_count": 166,
     "metadata": {},
     "output_type": "execute_result"
    }
   ],
   "source": [
    "#Grab the first \n",
    "features = feature_importances.head(60)\n",
    "features.head()"
   ]
  },
  {
   "cell_type": "code",
   "execution_count": 167,
   "metadata": {},
   "outputs": [],
   "source": [
    "my_list = features.loc[:,[\"features\"]].values.tolist()\n",
    "flatList = []\n",
    "for elem in my_list:\n",
    "    flatList.extend(elem)"
   ]
  },
  {
   "cell_type": "code",
   "execution_count": 169,
   "metadata": {},
   "outputs": [
    {
     "data": {
      "text/html": [
       "<div>\n",
       "<style scoped>\n",
       "    .dataframe tbody tr th:only-of-type {\n",
       "        vertical-align: middle;\n",
       "    }\n",
       "\n",
       "    .dataframe tbody tr th {\n",
       "        vertical-align: top;\n",
       "    }\n",
       "\n",
       "    .dataframe thead th {\n",
       "        text-align: right;\n",
       "    }\n",
       "</style>\n",
       "<table border=\"1\" class=\"dataframe\">\n",
       "  <thead>\n",
       "    <tr style=\"text-align: right;\">\n",
       "      <th></th>\n",
       "      <th>month_5</th>\n",
       "      <th>REV7110</th>\n",
       "      <th>month_2</th>\n",
       "      <th>year_2021</th>\n",
       "      <th>ALL8020</th>\n",
       "      <th>ALL8225</th>\n",
       "      <th>BRC7140</th>\n",
       "      <th>ALL8270</th>\n",
       "      <th>ALL8370</th>\n",
       "      <th>ALS8220</th>\n",
       "      <th>...</th>\n",
       "      <th>REH5020</th>\n",
       "      <th>ALL4018</th>\n",
       "      <th>BCC0438</th>\n",
       "      <th>BCC5400</th>\n",
       "      <th>REV7114</th>\n",
       "      <th>BCC8320</th>\n",
       "      <th>IQB9410</th>\n",
       "      <th>ALL5320</th>\n",
       "      <th>TBCC4502</th>\n",
       "      <th>TBCC3356</th>\n",
       "    </tr>\n",
       "  </thead>\n",
       "  <tbody>\n",
       "    <tr>\n",
       "      <th>0</th>\n",
       "      <td>0</td>\n",
       "      <td>76.0</td>\n",
       "      <td>0</td>\n",
       "      <td>0</td>\n",
       "      <td>568</td>\n",
       "      <td>9994</td>\n",
       "      <td>76</td>\n",
       "      <td>156</td>\n",
       "      <td>31</td>\n",
       "      <td>189</td>\n",
       "      <td>...</td>\n",
       "      <td>8040</td>\n",
       "      <td>113</td>\n",
       "      <td>1</td>\n",
       "      <td>5500</td>\n",
       "      <td>76.0</td>\n",
       "      <td>79</td>\n",
       "      <td>5</td>\n",
       "      <td>69914</td>\n",
       "      <td>2.0</td>\n",
       "      <td>52.0</td>\n",
       "    </tr>\n",
       "    <tr>\n",
       "      <th>1</th>\n",
       "      <td>0</td>\n",
       "      <td>32.0</td>\n",
       "      <td>0</td>\n",
       "      <td>0</td>\n",
       "      <td>765</td>\n",
       "      <td>94</td>\n",
       "      <td>32</td>\n",
       "      <td>85</td>\n",
       "      <td>21</td>\n",
       "      <td>127</td>\n",
       "      <td>...</td>\n",
       "      <td>1033</td>\n",
       "      <td>56</td>\n",
       "      <td>3</td>\n",
       "      <td>1000</td>\n",
       "      <td>34.0</td>\n",
       "      <td>38</td>\n",
       "      <td>6</td>\n",
       "      <td>13908</td>\n",
       "      <td>8.0</td>\n",
       "      <td>19.0</td>\n",
       "    </tr>\n",
       "    <tr>\n",
       "      <th>2</th>\n",
       "      <td>0</td>\n",
       "      <td>60.0</td>\n",
       "      <td>0</td>\n",
       "      <td>0</td>\n",
       "      <td>1213</td>\n",
       "      <td>174</td>\n",
       "      <td>60</td>\n",
       "      <td>125</td>\n",
       "      <td>30</td>\n",
       "      <td>89</td>\n",
       "      <td>...</td>\n",
       "      <td>10449</td>\n",
       "      <td>363</td>\n",
       "      <td>12</td>\n",
       "      <td>1500</td>\n",
       "      <td>60.0</td>\n",
       "      <td>17</td>\n",
       "      <td>7</td>\n",
       "      <td>34176</td>\n",
       "      <td>6.0</td>\n",
       "      <td>56.0</td>\n",
       "    </tr>\n",
       "    <tr>\n",
       "      <th>3</th>\n",
       "      <td>0</td>\n",
       "      <td>997.0</td>\n",
       "      <td>0</td>\n",
       "      <td>0</td>\n",
       "      <td>1605</td>\n",
       "      <td>94</td>\n",
       "      <td>997</td>\n",
       "      <td>84</td>\n",
       "      <td>29</td>\n",
       "      <td>150</td>\n",
       "      <td>...</td>\n",
       "      <td>999999997</td>\n",
       "      <td>0</td>\n",
       "      <td>0</td>\n",
       "      <td>2150</td>\n",
       "      <td>996.0</td>\n",
       "      <td>54</td>\n",
       "      <td>0</td>\n",
       "      <td>999999997</td>\n",
       "      <td>9997.0</td>\n",
       "      <td>997.0</td>\n",
       "    </tr>\n",
       "    <tr>\n",
       "      <th>4</th>\n",
       "      <td>0</td>\n",
       "      <td>95.0</td>\n",
       "      <td>0</td>\n",
       "      <td>0</td>\n",
       "      <td>342</td>\n",
       "      <td>77</td>\n",
       "      <td>95</td>\n",
       "      <td>49</td>\n",
       "      <td>18</td>\n",
       "      <td>77</td>\n",
       "      <td>...</td>\n",
       "      <td>568</td>\n",
       "      <td>8</td>\n",
       "      <td>1</td>\n",
       "      <td>750</td>\n",
       "      <td>95.0</td>\n",
       "      <td>43</td>\n",
       "      <td>1</td>\n",
       "      <td>600</td>\n",
       "      <td>0.0</td>\n",
       "      <td>47.0</td>\n",
       "    </tr>\n",
       "  </tbody>\n",
       "</table>\n",
       "<p>5 rows × 60 columns</p>\n",
       "</div>"
      ],
      "text/plain": [
       "   month_5  REV7110  month_2  year_2021  ALL8020  ALL8225  BRC7140  ALL8270  \\\n",
       "0        0     76.0        0          0      568     9994       76      156   \n",
       "1        0     32.0        0          0      765       94       32       85   \n",
       "2        0     60.0        0          0     1213      174       60      125   \n",
       "3        0    997.0        0          0     1605       94      997       84   \n",
       "4        0     95.0        0          0      342       77       95       49   \n",
       "\n",
       "   ALL8370  ALS8220  ...    REH5020  ALL4018  BCC0438  BCC5400  REV7114  \\\n",
       "0       31      189  ...       8040      113        1     5500     76.0   \n",
       "1       21      127  ...       1033       56        3     1000     34.0   \n",
       "2       30       89  ...      10449      363       12     1500     60.0   \n",
       "3       29      150  ...  999999997        0        0     2150    996.0   \n",
       "4       18       77  ...        568        8        1      750     95.0   \n",
       "\n",
       "   BCC8320  IQB9410    ALL5320  TBCC4502  TBCC3356  \n",
       "0       79        5      69914       2.0      52.0  \n",
       "1       38        6      13908       8.0      19.0  \n",
       "2       17        7      34176       6.0      56.0  \n",
       "3       54        0  999999997    9997.0     997.0  \n",
       "4       43        1        600       0.0      47.0  \n",
       "\n",
       "[5 rows x 60 columns]"
      ]
     },
     "execution_count": 169,
     "metadata": {},
     "output_type": "execute_result"
    }
   ],
   "source": [
    "smaller_df = df[flatList]\n",
    "smaller_df.head()"
   ]
  },
  {
   "cell_type": "markdown",
   "metadata": {},
   "source": [
    "## Examining the Cash Intent, Credit Term Limits, and Years of Operation"
   ]
  },
  {
   "cell_type": "code",
   "execution_count": 172,
   "metadata": {},
   "outputs": [
    {
     "data": {
      "text/html": [
       "<div>\n",
       "<style scoped>\n",
       "    .dataframe tbody tr th:only-of-type {\n",
       "        vertical-align: middle;\n",
       "    }\n",
       "\n",
       "    .dataframe tbody tr th {\n",
       "        vertical-align: top;\n",
       "    }\n",
       "\n",
       "    .dataframe thead th {\n",
       "        text-align: right;\n",
       "    }\n",
       "</style>\n",
       "<table border=\"1\" class=\"dataframe\">\n",
       "  <thead>\n",
       "    <tr style=\"text-align: right;\">\n",
       "      <th></th>\n",
       "      <th>cash_intent</th>\n",
       "      <th>year_2019</th>\n",
       "      <th>year_2020</th>\n",
       "      <th>year_2021</th>\n",
       "      <th>product_term_credit_limit_300</th>\n",
       "      <th>product_term_credit_limit_500</th>\n",
       "      <th>product_term_credit_limit_750</th>\n",
       "      <th>product_term_credit_limit_1000</th>\n",
       "    </tr>\n",
       "  </thead>\n",
       "  <tbody>\n",
       "    <tr>\n",
       "      <th>0</th>\n",
       "      <td>0</td>\n",
       "      <td>1</td>\n",
       "      <td>0</td>\n",
       "      <td>0</td>\n",
       "      <td>0</td>\n",
       "      <td>1</td>\n",
       "      <td>0</td>\n",
       "      <td>0</td>\n",
       "    </tr>\n",
       "    <tr>\n",
       "      <th>1</th>\n",
       "      <td>0</td>\n",
       "      <td>1</td>\n",
       "      <td>0</td>\n",
       "      <td>0</td>\n",
       "      <td>0</td>\n",
       "      <td>1</td>\n",
       "      <td>0</td>\n",
       "      <td>0</td>\n",
       "    </tr>\n",
       "    <tr>\n",
       "      <th>2</th>\n",
       "      <td>0</td>\n",
       "      <td>1</td>\n",
       "      <td>0</td>\n",
       "      <td>0</td>\n",
       "      <td>0</td>\n",
       "      <td>1</td>\n",
       "      <td>0</td>\n",
       "      <td>0</td>\n",
       "    </tr>\n",
       "    <tr>\n",
       "      <th>3</th>\n",
       "      <td>0</td>\n",
       "      <td>1</td>\n",
       "      <td>0</td>\n",
       "      <td>0</td>\n",
       "      <td>0</td>\n",
       "      <td>1</td>\n",
       "      <td>0</td>\n",
       "      <td>0</td>\n",
       "    </tr>\n",
       "    <tr>\n",
       "      <th>4</th>\n",
       "      <td>1</td>\n",
       "      <td>1</td>\n",
       "      <td>0</td>\n",
       "      <td>0</td>\n",
       "      <td>0</td>\n",
       "      <td>1</td>\n",
       "      <td>0</td>\n",
       "      <td>0</td>\n",
       "    </tr>\n",
       "  </tbody>\n",
       "</table>\n",
       "</div>"
      ],
      "text/plain": [
       "   cash_intent  year_2019  year_2020  year_2021  \\\n",
       "0            0          1          0          0   \n",
       "1            0          1          0          0   \n",
       "2            0          1          0          0   \n",
       "3            0          1          0          0   \n",
       "4            1          1          0          0   \n",
       "\n",
       "   product_term_credit_limit_300  product_term_credit_limit_500  \\\n",
       "0                              0                              1   \n",
       "1                              0                              1   \n",
       "2                              0                              1   \n",
       "3                              0                              1   \n",
       "4                              0                              1   \n",
       "\n",
       "   product_term_credit_limit_750  product_term_credit_limit_1000  \n",
       "0                              0                               0  \n",
       "1                              0                               0  \n",
       "2                              0                               0  \n",
       "3                              0                               0  \n",
       "4                              0                               0  "
      ]
     },
     "execution_count": 172,
     "metadata": {},
     "output_type": "execute_result"
    }
   ],
   "source": [
    "## Examining the Cash Intent, Credit Term Limits, and Years of Operation\n",
    "smallest_df =    df[['cash_intent','year_2019', 'year_2020', 'year_2021', 'product_term_credit_limit_300',\n",
    "                 'product_term_credit_limit_500', 'product_term_credit_limit_750', \n",
    "                 'product_term_credit_limit_1000']]\n",
    "smallest_df.head()"
   ]
  },
  {
   "cell_type": "markdown",
   "metadata": {},
   "source": [
    "### Correlation relationship between categorical features"
   ]
  },
  {
   "cell_type": "code",
   "execution_count": 174,
   "metadata": {},
   "outputs": [
    {
     "data": {
      "text/plain": [
       "<AxesSubplot:>"
      ]
     },
     "execution_count": 174,
     "metadata": {},
     "output_type": "execute_result"
    },
    {
     "data": {
      "image/png": "[encoded data removed]",
      "text/plain": [
       "<Figure size 432x288 with 2 Axes>"
      ]
     },
     "metadata": {
      "needs_background": "light"
     },
     "output_type": "display_data"
    }
   ],
   "source": [
    "correlation = smallest_df.corr()\n",
    "sns.heatmap(correlation, xticklabels =  correlation.columns, yticklabels = correlation.columns, annot= True)"
   ]
  },
  {
   "cell_type": "markdown",
   "metadata": {},
   "source": [
    "### Percentage of the Data for Each Year of Operation"
   ]
  },
  {
   "cell_type": "code",
   "execution_count": 54,
   "metadata": {},
   "outputs": [
    {
     "data": {
      "text/plain": [
       "0    17308\n",
       "1     1722\n",
       "Name: year_2019, dtype: int64"
      ]
     },
     "execution_count": 54,
     "metadata": {},
     "output_type": "execute_result"
    }
   ],
   "source": [
    "smallest_df['year_2019'].value_counts()"
   ]
  },
  {
   "cell_type": "code",
   "execution_count": 55,
   "metadata": {},
   "outputs": [
    {
     "data": {
      "text/plain": [
       "0    12227\n",
       "1     6803\n",
       "Name: year_2020, dtype: int64"
      ]
     },
     "execution_count": 55,
     "metadata": {},
     "output_type": "execute_result"
    }
   ],
   "source": [
    "smallest_df['year_2020'].value_counts()"
   ]
  },
  {
   "cell_type": "code",
   "execution_count": 56,
   "metadata": {},
   "outputs": [
    {
     "data": {
      "text/plain": [
       "1    10505\n",
       "0     8525\n",
       "Name: year_2021, dtype: int64"
      ]
     },
     "execution_count": 56,
     "metadata": {},
     "output_type": "execute_result"
    }
   ],
   "source": [
    "smallest_df['year_2021'].value_counts()"
   ]
  },
  {
   "cell_type": "code",
   "execution_count": 57,
   "metadata": {},
   "outputs": [
    {
     "data": {
      "image/png": "[encoded data removed]",
      "text/plain": [
       "<Figure size 360x360 with 1 Axes>"
      ]
     },
     "metadata": {},
     "output_type": "display_data"
    }
   ],
   "source": [
    "plt.figure(figsize = (5,5))\n",
    "\n",
    "labels = [\"2019\", \"2020\", \"2021\"]\n",
    "values = [1722, 6803, 8525]\n",
    "\n",
    "plt.pie(values, labels = labels, autopct = '%2.1f%%')\n",
    "plt.title(\"% of the Data for Each Year of Operation\")\n",
    "plt.show()"
   ]
  },
  {
   "cell_type": "markdown",
   "metadata": {},
   "source": [
    "### Percentage of Missed Payments Based on Credit Limits"
   ]
  },
  {
   "cell_type": "code",
   "execution_count": 58,
   "metadata": {},
   "outputs": [
    {
     "data": {
      "text/plain": [
       "(19030, 8)"
      ]
     },
     "execution_count": 58,
     "metadata": {},
     "output_type": "execute_result"
    }
   ],
   "source": [
    "smallest_df.shape"
   ]
  },
  {
   "cell_type": "code",
   "execution_count": 59,
   "metadata": {},
   "outputs": [],
   "source": [
    "smallest_df = pd.concat([smallest_df,df_credit['NP']],axis=1, join='inner')"
   ]
  },
  {
   "cell_type": "code",
   "execution_count": 60,
   "metadata": {},
   "outputs": [
    {
     "data": {
      "text/plain": [
       "0    12461\n",
       "1     6568\n",
       "Name: product_term_credit_limit_300, dtype: int64"
      ]
     },
     "execution_count": 60,
     "metadata": {},
     "output_type": "execute_result"
    }
   ],
   "source": [
    "vc_300 = smallest_df['product_term_credit_limit_300'].value_counts()\n",
    "vc_300"
   ]
  },
  {
   "cell_type": "code",
   "execution_count": 61,
   "metadata": {},
   "outputs": [],
   "source": [
    "vc_500 = smallest_df['product_term_credit_limit_500'].value_counts()"
   ]
  },
  {
   "cell_type": "code",
   "execution_count": 62,
   "metadata": {},
   "outputs": [],
   "source": [
    "vc_750 = smallest_df['product_term_credit_limit_750'].value_counts()"
   ]
  },
  {
   "cell_type": "code",
   "execution_count": 63,
   "metadata": {},
   "outputs": [],
   "source": [
    "vc_1000 = smallest_df['product_term_credit_limit_1000'].value_counts()"
   ]
  },
  {
   "cell_type": "code",
   "execution_count": 64,
   "metadata": {},
   "outputs": [
    {
     "name": "stdout",
     "output_type": "stream",
     "text": [
      "300: 0.3451573913500447 \n",
      " 500: 0.20663198276315098 \n",
      " 750: 0.21871879762467814 \n",
      "1000 0.22949182826212622\n"
     ]
    }
   ],
   "source": [
    "print(\"300:\", vc_300[1]/(vc_300[0]+vc_300[1]),\"\\n\", \"500:\", vc_500[1]/(vc_500[0]+vc_500[1]),\"\\n\", \"750:\", vc_750[1]/(vc_750[0]+vc_750[1]),\"\\n\" \"1000\", vc_1000[1]/(vc_1000[0]+vc_1000[1]))"
   ]
  },
  {
   "cell_type": "code",
   "execution_count": 65,
   "metadata": {},
   "outputs": [
    {
     "data": {
      "image/png": "[encoded data removed]",
      "text/plain": [
       "<Figure size 720x360 with 1 Axes>"
      ]
     },
     "metadata": {
      "needs_background": "light"
     },
     "output_type": "display_data"
    }
   ],
   "source": [
    "# creating the dataset\n",
    "data = {'300': 0.345, '500':0.206, '750':0.218,\n",
    "        '1000': 0.229}\n",
    "credit = list(data.keys())\n",
    "values = list(data.values())\n",
    "  \n",
    "fig = plt.figure(figsize = (10, 5))\n",
    " \n",
    "# creating the bar plot\n",
    "plt.bar(credit, values, color ='lightcoral',\n",
    "        width = 0.4)\n",
    " \n",
    "plt.xlabel(\"Credit Limit\")\n",
    "plt.ylabel(\"Percentage of Missed Payments\")\n",
    "plt.title(\"Percentage of Missed Payments Based on Credit Limit\")\n",
    "plt.show()"
   ]
  }
 ],
 "metadata": {
  "kernelspec": {
   "display_name": "Python 3",
   "language": "python",
   "name": "python3"
  },
  "language_info": {
   "codemirror_mode": {
    "name": "ipython",
    "version": 3
   },
   "file_extension": ".py",
   "mimetype": "text/x-python",
   "name": "python",
   "nbconvert_exporter": "python",
   "pygments_lexer": "ipython3",
   "version": "3.7.6"
  }
 },
 "nbformat": 4,
 "nbformat_minor": 4
}
