{
 "cells": [
  {
   "cell_type": "code",
   "execution_count": 2,
   "metadata": {},
   "outputs": [],
   "source": [
    "import pandas as pd\n",
    "import numpy as np\n",
    "import matplotlib.pyplot as plt\n",
    "%matplotlib inline\n",
    "import warnings\n",
    "warnings.filterwarnings(\"ignore\")\n",
    "\n",
    "\n",
    "import seaborn as sns"
   ]
  },
  {
   "cell_type": "code",
   "execution_count": 3,
   "metadata": {},
   "outputs": [],
   "source": [
    "#https://github.com/comet-ml/comet-content/blob/master/home-credit/data/eda-part-1.ipynb\n",
    "df = pd.read_csv('credit_date_df.csv', index_col=0)"
   ]
  },
  {
   "cell_type": "code",
   "execution_count": 4,
   "metadata": {},
   "outputs": [],
   "source": [
    "y = df['NP']"
   ]
  },
  {
   "cell_type": "code",
   "execution_count": 5,
   "metadata": {},
   "outputs": [],
   "source": [
    "df2 = pd.read_csv('hybrid_2045features.csv', index_col=0)"
   ]
  },
  {
   "cell_type": "code",
   "execution_count": 8,
   "metadata": {},
   "outputs": [
    {
     "data": {
      "text/plain": [
       "(19030, 2045)"
      ]
     },
     "execution_count": 8,
     "metadata": {},
     "output_type": "execute_result"
    }
   ],
   "source": [
    "df2.shape"
   ]
  },
  {
   "cell_type": "code",
   "execution_count": 10,
   "metadata": {},
   "outputs": [],
   "source": [
    "X = df2\n",
    "Y = y"
   ]
  },
  {
   "cell_type": "code",
   "execution_count": 11,
   "metadata": {},
   "outputs": [],
   "source": [
    "from sklearn import model_selection\n",
    "from statistics import mean, stdev\n",
    "from sklearn.linear_model import LogisticRegression\n",
    "from xgboost import XGBClassifier\n",
    "from sklearn.metrics import accuracy_score,f1_score,precision_score, recall_score,auc,roc_curve\n",
    "import time"
   ]
  },
  {
   "cell_type": "code",
   "execution_count": 12,
   "metadata": {},
   "outputs": [
    {
     "name": "stdout",
     "output_type": "stream",
     "text": [
      "(19030, 2045)\n",
      "(34610, 2045)\n"
     ]
    }
   ],
   "source": [
    "from imblearn.over_sampling import RandomOverSampler\n",
    "\n",
    "ros = RandomOverSampler()\n",
    "X_oversample, y_oversample = ros.fit_resample(X, Y)\n",
    "print(X.shape)\n",
    "print(X_oversample.shape)"
   ]
  },
  {
   "cell_type": "code",
   "execution_count": 13,
   "metadata": {},
   "outputs": [],
   "source": [
    "X = X_oversample\n",
    "Y = y_oversample"
   ]
  },
  {
   "cell_type": "code",
   "execution_count": 14,
   "metadata": {},
   "outputs": [
    {
     "name": "stdout",
     "output_type": "stream",
     "text": [
      "List of possible accuracies for Logistic Regression is: [0.79586825 0.79240104 0.78517769 0.79500144 0.78618896]\n",
      "List of possible Precision for Logistic Regression is: [0.79425287 0.79282407 0.78592121 0.79255014 0.78602368]\n",
      "List of possible Recall for Logistic Regression is: [0.79861312 0.79167871 0.78387749 0.79919099 0.7864779 ]\n",
      "List of possible F1 score for Logistic Regression is: [0.79642703 0.79225098 0.78489802 0.79585671 0.78625072]\n",
      "List of possible ROC_AUC for Logistic Regression is: [0.87643884 0.87244861 0.87208179 0.87823939 0.87116197]\n",
      "Logistic Regression: 0.790927 (0.004443)\n",
      "---Classifier Logistic Regression use 312.9895 seconds ---\n",
      "List of possible accuracies for XGBoost is: [0.97067322 0.96633921 0.96951748 0.97471829 0.96836175]\n",
      "List of possible Precision for XGBoost is: [0.94459607 0.93763557 0.94277929 0.95211888 0.94072866]\n",
      "List of possible Recall for XGBoost is: [1.         0.9991332  0.99971107 0.99971107 0.99971107]\n",
      "List of possible F1 score for XGBoost is: [0.97150877 0.96740803 0.97041088 0.97533474 0.96932343]\n",
      "List of possible ROC_AUC for XGBoost is: [0.99570339 0.99451894 0.99690851 0.99694524 0.99581918]\n",
      "XGBoost: 0.969922 (0.002793)\n",
      "---Classifier XGBoost use 2396.9436 seconds ---\n"
     ]
    },
    {
     "data": {
      "text/html": [
       "<div>\n",
       "<style scoped>\n",
       "    .dataframe tbody tr th:only-of-type {\n",
       "        vertical-align: middle;\n",
       "    }\n",
       "\n",
       "    .dataframe tbody tr th {\n",
       "        vertical-align: top;\n",
       "    }\n",
       "\n",
       "    .dataframe thead th {\n",
       "        text-align: right;\n",
       "    }\n",
       "</style>\n",
       "<table border=\"1\" class=\"dataframe\">\n",
       "  <thead>\n",
       "    <tr style=\"text-align: right;\">\n",
       "      <th></th>\n",
       "      <th>MLA used</th>\n",
       "      <th>Test Accuracy</th>\n",
       "      <th>Precision</th>\n",
       "      <th>Recall</th>\n",
       "      <th>f1</th>\n",
       "      <th>roc_auc</th>\n",
       "    </tr>\n",
       "  </thead>\n",
       "  <tbody>\n",
       "    <tr>\n",
       "      <th>1</th>\n",
       "      <td>XGBoost</td>\n",
       "      <td>0.9699</td>\n",
       "      <td>0.9436</td>\n",
       "      <td>0.9997</td>\n",
       "      <td>0.970797</td>\n",
       "      <td>0.995979</td>\n",
       "    </tr>\n",
       "    <tr>\n",
       "      <th>0</th>\n",
       "      <td>Logistic Regression</td>\n",
       "      <td>0.7909</td>\n",
       "      <td>0.7903</td>\n",
       "      <td>0.7920</td>\n",
       "      <td>0.791137</td>\n",
       "      <td>0.874074</td>\n",
       "    </tr>\n",
       "  </tbody>\n",
       "</table>\n",
       "</div>"
      ],
      "text/plain": [
       "              MLA used  Test Accuracy  Precision  Recall        f1   roc_auc\n",
       "1              XGBoost         0.9699     0.9436  0.9997  0.970797  0.995979\n",
       "0  Logistic Regression         0.7909     0.7903  0.7920  0.791137  0.874074"
      ]
     },
     "execution_count": 14,
     "metadata": {},
     "output_type": "execute_result"
    }
   ],
   "source": [
    "MLA_columns = []\n",
    "MLA_compare = pd.DataFrame(columns = MLA_columns)\n",
    "row_index = 0\n",
    "# prepare configuration for cross validation test harness\n",
    "seed = 7\n",
    "# prepare models\n",
    "models = []\n",
    "models.append(('Logistic Regression', LogisticRegression()))\n",
    "models.append(('XGBoost', XGBClassifier(eval_metric='mlogloss')))\n",
    "\n",
    "# evaluate each model in turn\n",
    "results = []\n",
    "names = []\n",
    "scoring = 'accuracy'\n",
    "\n",
    "# Create StratifiedKFold object.    \n",
    "tic = time.perf_counter()\n",
    "for name, model in models:\n",
    "    skfold = model_selection.StratifiedKFold(n_splits=5, shuffle=True, random_state=seed)\n",
    "    cv_results = model_selection.cross_val_score(model, X, Y, cv=skfold, scoring=scoring)\n",
    "    f1_results = model_selection.cross_val_score(model, X, Y, cv=skfold, scoring='f1')\n",
    "    recall_results = model_selection.cross_val_score(model, X, Y, cv=skfold, scoring='recall')\n",
    "    precision_results = model_selection.cross_val_score(model, X, Y, cv=skfold, scoring='precision')\n",
    "    roc_auc_results = model_selection.cross_val_score(model, X, Y, cv=skfold, scoring='roc_auc')\n",
    "    MLA_compare.loc[row_index,'MLA used'] = name\n",
    "    MLA_compare.loc[row_index, 'Test Accuracy'] = round(mean(cv_results), 4)\n",
    "    MLA_compare.loc[row_index, 'Precision'] = round(mean(precision_results),4)\n",
    "    MLA_compare.loc[row_index, 'Recall'] = round(mean(recall_results),4)\n",
    "    MLA_compare.loc[row_index, 'f1'] = mean(f1_results)\n",
    "    MLA_compare.loc[row_index, 'roc_auc'] = mean(roc_auc_results)\n",
    "    results.append(cv_results)\n",
    "    names.append(name)\n",
    "    # Print the output.\n",
    "    print('List of possible accuracies for {0} is: {1}'.format(name, cv_results))\n",
    "    print('List of possible Precision for {0} is: {1}'.format(name, precision_results))\n",
    "    print('List of possible Recall for {0} is: {1}'.format(name, recall_results))\n",
    "    print('List of possible F1 score for {0} is: {1}'.format(name, f1_results))\n",
    "    print('List of possible ROC_AUC for {0} is: {1}'.format(name, roc_auc_results))\n",
    "    msg = \"%s: %f (%f)\" % (name, mean(cv_results), cv_results.std())\n",
    "    print(msg)\n",
    "    toc = time.perf_counter()\n",
    "    secs = toc - tic\n",
    "    print(\"---Classifier %s use %0.4f seconds ---\" %(name, secs))\n",
    "    row_index+=1\n",
    "    \n",
    "MLA_compare.sort_values(by = ['Test Accuracy'], ascending = False, inplace = True)    \n",
    "MLA_compare"
   ]
  },
  {
   "cell_type": "code",
   "execution_count": 15,
   "metadata": {},
   "outputs": [
    {
     "data": {
      "image/png": "[encoded data removed]",
      "text/plain": [
       "<Figure size 360x360 with 1 Axes>"
      ]
     },
     "metadata": {
      "needs_background": "light"
     },
     "output_type": "display_data"
    }
   ],
   "source": [
    "# Creating plot to show the train accuracy\n",
    "plt.subplots(figsize=(5,5))\n",
    "sns.barplot(x=\"MLA used\", y=\"Test Accuracy\",data=MLA_compare,palette='Set2',edgecolor=sns.color_palette('Accent',7))\n",
    "plt.xticks(rotation=90)\n",
    "plt.title('MLA Test Accuracy Comparison')\n",
    "plt.show()"
   ]
  }
 ],
 "metadata": {
  "kernelspec": {
   "display_name": "Python 3",
   "language": "python",
   "name": "python3"
  },
  "language_info": {
   "codemirror_mode": {
    "name": "ipython",
    "version": 3
   },
   "file_extension": ".py",
   "mimetype": "text/x-python",
   "name": "python",
   "nbconvert_exporter": "python",
   "pygments_lexer": "ipython3",
   "version": "3.7.6"
  }
 },
 "nbformat": 4,
 "nbformat_minor": 4
}
